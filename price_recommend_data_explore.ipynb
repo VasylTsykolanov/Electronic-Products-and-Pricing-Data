{
 "cells": [
  {
   "cell_type": "code",
   "execution_count": 1039,
   "metadata": {},
   "outputs": [],
   "source": [
    "##### import pandas as pd\n",
    "import numpy as np\n",
    "import pandas as pd\n",
    "import matplotlib.pyplot as plt\n",
    "from pandasql import sqldf\n",
    "import pandas_profiling\n",
    "import datetime\n",
    "from datetime import date"
   ]
  },
  {
   "cell_type": "code",
   "execution_count": 1040,
   "metadata": {},
   "outputs": [],
   "source": [
    "import seaborn as sns\n",
    "import matplotlib.pyplot as plt\n",
    "from scipy.stats import chi2_contingency\n",
    "import scipy.stats"
   ]
  },
  {
   "cell_type": "markdown",
   "metadata": {},
   "source": [
    "### Read the data"
   ]
  },
  {
   "cell_type": "code",
   "execution_count": 1041,
   "metadata": {},
   "outputs": [
    {
     "data": {
      "text/html": [
       "<div>\n",
       "<style scoped>\n",
       "    .dataframe tbody tr th:only-of-type {\n",
       "        vertical-align: middle;\n",
       "    }\n",
       "\n",
       "    .dataframe tbody tr th {\n",
       "        vertical-align: top;\n",
       "    }\n",
       "\n",
       "    .dataframe thead th {\n",
       "        text-align: right;\n",
       "    }\n",
       "</style>\n",
       "<table border=\"1\" class=\"dataframe\">\n",
       "  <thead>\n",
       "    <tr style=\"text-align: right;\">\n",
       "      <th></th>\n",
       "      <th>id</th>\n",
       "      <th>prices.amountMax</th>\n",
       "      <th>prices.amountMin</th>\n",
       "      <th>prices.availability</th>\n",
       "      <th>prices.condition</th>\n",
       "      <th>prices.currency</th>\n",
       "      <th>prices.dateSeen</th>\n",
       "      <th>prices.isSale</th>\n",
       "      <th>prices.merchant</th>\n",
       "      <th>prices.shipping</th>\n",
       "      <th>...</th>\n",
       "      <th>name</th>\n",
       "      <th>primaryCategories</th>\n",
       "      <th>sourceURLs</th>\n",
       "      <th>upc</th>\n",
       "      <th>weight</th>\n",
       "      <th>Unnamed: 26</th>\n",
       "      <th>Unnamed: 27</th>\n",
       "      <th>Unnamed: 28</th>\n",
       "      <th>Unnamed: 29</th>\n",
       "      <th>Unnamed: 30</th>\n",
       "    </tr>\n",
       "  </thead>\n",
       "  <tbody>\n",
       "    <tr>\n",
       "      <th>0</th>\n",
       "      <td>AVphzgbJLJeJML43fA0o</td>\n",
       "      <td>104.99</td>\n",
       "      <td>104.99</td>\n",
       "      <td>Yes</td>\n",
       "      <td>New</td>\n",
       "      <td>USD</td>\n",
       "      <td>2017-03-30T06:00:00Z,2017-03-10T22:00:00Z,2017...</td>\n",
       "      <td>False</td>\n",
       "      <td>Bestbuy.com</td>\n",
       "      <td>NaN</td>\n",
       "      <td>...</td>\n",
       "      <td>Sanus VLF410B1 10-Inch Super Slim Full-Motion ...</td>\n",
       "      <td>Electronics</td>\n",
       "      <td>https://www.amazon.com/Sanus-VLF410B1-10-Inch-...</td>\n",
       "      <td>7.93796E+11</td>\n",
       "      <td>32.8 pounds</td>\n",
       "      <td>NaN</td>\n",
       "      <td>NaN</td>\n",
       "      <td>NaN</td>\n",
       "      <td>NaN</td>\n",
       "      <td>NaN</td>\n",
       "    </tr>\n",
       "  </tbody>\n",
       "</table>\n",
       "<p>1 rows × 31 columns</p>\n",
       "</div>"
      ],
      "text/plain": [
       "                     id  prices.amountMax  prices.amountMin  \\\n",
       "0  AVphzgbJLJeJML43fA0o            104.99            104.99   \n",
       "\n",
       "  prices.availability prices.condition prices.currency  \\\n",
       "0                 Yes              New             USD   \n",
       "\n",
       "                                     prices.dateSeen  prices.isSale  \\\n",
       "0  2017-03-30T06:00:00Z,2017-03-10T22:00:00Z,2017...          False   \n",
       "\n",
       "  prices.merchant prices.shipping  ...  \\\n",
       "0     Bestbuy.com             NaN  ...   \n",
       "\n",
       "                                                name primaryCategories  \\\n",
       "0  Sanus VLF410B1 10-Inch Super Slim Full-Motion ...       Electronics   \n",
       "\n",
       "                                          sourceURLs          upc  \\\n",
       "0  https://www.amazon.com/Sanus-VLF410B1-10-Inch-...  7.93796E+11   \n",
       "\n",
       "        weight Unnamed: 26 Unnamed: 27 Unnamed: 28 Unnamed: 29 Unnamed: 30  \n",
       "0  32.8 pounds         NaN         NaN         NaN         NaN         NaN  \n",
       "\n",
       "[1 rows x 31 columns]"
      ]
     },
     "execution_count": 1041,
     "metadata": {},
     "output_type": "execute_result"
    }
   ],
   "source": [
    "data = pd.read_csv(\"...DatafinitiElectronicsProductsPricingData.csv\")\n",
    "data.head(1)"
   ]
  },
  {
   "cell_type": "code",
   "execution_count": 1042,
   "metadata": {},
   "outputs": [
    {
     "data": {
      "text/plain": [
       "id                      object\n",
       "prices.amountMax       float64\n",
       "prices.amountMin       float64\n",
       "prices.availability     object\n",
       "prices.condition        object\n",
       "prices.currency         object\n",
       "prices.dateSeen         object\n",
       "prices.isSale             bool\n",
       "prices.merchant         object\n",
       "prices.shipping         object\n",
       "prices.sourceURLs       object\n",
       "asins                   object\n",
       "brand                   object\n",
       "categories              object\n",
       "dateAdded               object\n",
       "dateUpdated             object\n",
       "ean                     object\n",
       "imageURLs               object\n",
       "keys                    object\n",
       "manufacturer            object\n",
       "manufacturerNumber      object\n",
       "name                    object\n",
       "primaryCategories       object\n",
       "sourceURLs              object\n",
       "upc                     object\n",
       "weight                  object\n",
       "Unnamed: 26             object\n",
       "Unnamed: 27             object\n",
       "Unnamed: 28            float64\n",
       "Unnamed: 29             object\n",
       "Unnamed: 30             object\n",
       "dtype: object"
      ]
     },
     "execution_count": 1042,
     "metadata": {},
     "output_type": "execute_result"
    }
   ],
   "source": [
    "data.dtypes"
   ]
  },
  {
   "cell_type": "code",
   "execution_count": 1043,
   "metadata": {},
   "outputs": [],
   "source": [
    "data_train_non_trans = data[['id',\n",
    "                'prices.availability',\n",
    "               'prices.condition',\n",
    "                'prices.dateSeen',\n",
    "               'prices.isSale',\n",
    "               'prices.merchant',\n",
    "               'prices.shipping',\n",
    "                'sourceURLs',\n",
    "               'brand',\n",
    "               'categories',\n",
    "               'dateAdded',\n",
    "               'dateUpdated',\n",
    "               'manufacturer',\n",
    "               'manufacturerNumber',\n",
    "               'name',\n",
    "               'primaryCategories',\n",
    "               'weight',\n",
    "               'prices.currency',\n",
    "               'prices.amountMin',\n",
    "               'prices.amountMax']]"
   ]
  },
  {
   "cell_type": "markdown",
   "metadata": {},
   "source": [
    "### Data Explore"
   ]
  },
  {
   "cell_type": "code",
   "execution_count": 1044,
   "metadata": {},
   "outputs": [],
   "source": [
    "#As we can see, there are different currencies in our data. Let's transform everything to USD"
   ]
  },
  {
   "cell_type": "code",
   "execution_count": 1045,
   "metadata": {},
   "outputs": [
    {
     "data": {
      "text/plain": [
       "array(['USD', 'CAD', 'SGD', 'EUR', 'GBP'], dtype=object)"
      ]
     },
     "execution_count": 1045,
     "metadata": {},
     "output_type": "execute_result"
    }
   ],
   "source": [
    "data_train_non_trans['prices.currency'].unique()"
   ]
  },
  {
   "cell_type": "code",
   "execution_count": 1046,
   "metadata": {},
   "outputs": [
    {
     "name": "stderr",
     "output_type": "stream",
     "text": [
      "C:\\Users\\I347687\\AppData\\Roaming\\Python\\Python37\\site-packages\\ipykernel_launcher.py:1: SettingWithCopyWarning: \n",
      "A value is trying to be set on a copy of a slice from a DataFrame.\n",
      "Try using .loc[row_indexer,col_indexer] = value instead\n",
      "\n",
      "See the caveats in the documentation: https://pandas.pydata.org/pandas-docs/stable/user_guide/indexing.html#returning-a-view-versus-a-copy\n",
      "  \"\"\"Entry point for launching an IPython kernel.\n",
      "C:\\Users\\I347687\\AppData\\Roaming\\Python\\Python37\\site-packages\\ipykernel_launcher.py:8: SettingWithCopyWarning: \n",
      "A value is trying to be set on a copy of a slice from a DataFrame.\n",
      "Try using .loc[row_indexer,col_indexer] = value instead\n",
      "\n",
      "See the caveats in the documentation: https://pandas.pydata.org/pandas-docs/stable/user_guide/indexing.html#returning-a-view-versus-a-copy\n",
      "  \n"
     ]
    }
   ],
   "source": [
    "data_train_non_trans['price_USD'] = data_train_non_trans['prices.amountMax']\n",
    "data_train_non_trans['price_USD'] = np.where(data_train_non_trans['prices.currency'] == 'CAD',\n",
    "                                           data_train_non_trans['price_USD'] * 0.8,\n",
    "                                           np.where(data_train_non_trans['prices.currency'] == 'SGD',\n",
    "                                                    data_train_non_trans['price_USD'] * 0.74,\n",
    "                                                   np.where(data_train_non_trans['prices.currency'] == 'EUR',\n",
    "                                                            data_train_non_trans['price_USD'] * 1.17,\n",
    "                                                            data_train_non_trans['price_USD'])))"
   ]
  },
  {
   "cell_type": "code",
   "execution_count": 1047,
   "metadata": {},
   "outputs": [],
   "source": [
    "weight_table_1 = np.unique(data_train_non_trans[['weight']])"
   ]
  },
  {
   "cell_type": "code",
   "execution_count": 1048,
   "metadata": {},
   "outputs": [],
   "source": [
    "weight_table = sqldf(\"SELECT DISTINCT weight from data_train_non_trans\")"
   ]
  },
  {
   "cell_type": "code",
   "execution_count": 1049,
   "metadata": {},
   "outputs": [],
   "source": [
    "weight_table = pd.DataFrame(data_train_non_trans.weight.str.split(' ',1).tolist(),\n",
    "                                 columns = ['weight_num','weight_metric'])"
   ]
  },
  {
   "cell_type": "code",
   "execution_count": 1050,
   "metadata": {},
   "outputs": [],
   "source": [
    "#As we can see, product weight is measured in different units. Let's transform everything into pounds"
   ]
  },
  {
   "cell_type": "code",
   "execution_count": 1051,
   "metadata": {},
   "outputs": [
    {
     "data": {
      "text/plain": [
       "array(['pounds', 'lb 2.6 lb 1.6 lb 18.7 lb', 'lb', 'ounces', 'oz', 'lbs',\n",
       "       'lbs                                                                                      1.8 pounds',\n",
       "       None,\n",
       "       'lb                                                                                      12.8 ounces',\n",
       "       'oz 3.2 oz',\n",
       "       'lbs                                                                                                2 pounds',\n",
       "       'lb                                                                                                8 ounces',\n",
       "       'lbs                                                                                                2.96 pounds',\n",
       "       'lb                                                                                                9.9 ounces',\n",
       "       'lb. 8 oz.',\n",
       "       'ounces                                                                                      6.9 ounces',\n",
       "       'lbs                                                                                      3.09 pounds',\n",
       "       'ounces                                                                                      6.4 ounces',\n",
       "       'g',\n",
       "       'lbs                                                                                                1.98 pounds',\n",
       "       'Kg',\n",
       "       'lbs                                                                                                1.38 pounds',\n",
       "       'lbs                                                                                      2.44 pounds',\n",
       "       'lbs                                                                                                1.6 pounds',\n",
       "       'ounces                                                                                                3.04 ounces',\n",
       "       'lb 3.3 lb',\n",
       "       'ounces                                                                                                0.96 ounces',\n",
       "       'lbs                                                                                                5.7 pounds',\n",
       "       'ounces                                                                                                0.16 ounces',\n",
       "       'lbs                                                                                                1.19 pounds',\n",
       "       'ounces                                                                                      4.8 ounces',\n",
       "       'ounces                                                                                                0.48 ounces',\n",
       "       'lbs                                                                                      2.51 pounds',\n",
       "       'oz 4.6 oz', 'oz 3.88 oz 8.2 oz',\n",
       "       'lb                                                                                                10.6 ounces',\n",
       "       'ounces                                                                                                0.8 ounces',\n",
       "       'lbs                                                                                      4.11 pounds',\n",
       "       'kg',\n",
       "       'ounces                                                                                      1.92 ounces',\n",
       "       'lbs                                                                                      2.31 pounds',\n",
       "       'lbs                                                                                      25.8 pounds',\n",
       "       'ounces                                                                                      3.04 ounces',\n",
       "       'ounces                                                                                      3.2 ounces',\n",
       "       'oz 10.6 oz 1.1 lb',\n",
       "       'ounces                                                                                      0.48 ounces',\n",
       "       'ounces                                                                                                5.6 ounces',\n",
       "       'lb                                                                                                8.8 ounces',\n",
       "       'Pounds',\n",
       "       'ounces                                                                                      3.68 ounces',\n",
       "       'lbs                                                                                      5 pounds',\n",
       "       'lb                                                                                                1 pounds',\n",
       "       'lb                                                                                      15.5 ounces',\n",
       "       'ounces                                                                                                0.64 ounces',\n",
       "       'lb                                                                                                13.6 ounces',\n",
       "       'oz 10.41 oz',\n",
       "       'lbs                                                                                      5.5 pounds',\n",
       "       'lbs                                                                                                5 pounds',\n",
       "       'lbs                                                                                      1.97 pounds',\n",
       "       'lb                                                                                                12.6 ounces',\n",
       "       'lb                                                                                      12 ounces',\n",
       "       'oz 4.09 oz',\n",
       "       'lbs                                                                                      6.85 pounds',\n",
       "       'lbs                                                                                                2.2 pounds',\n",
       "       'ounces                                                                                                4.2 ounces',\n",
       "       'ounces                                                                                      5.3 ounces',\n",
       "       'oz 4.09 oz 8.5 oz 3.1 oz', 'OUNCE',\n",
       "       'lbs                                                                                      2.34 pounds',\n",
       "       'lb                                                                                      1 pounds',\n",
       "       'lb 0.8 lb 3.1 oz',\n",
       "       'lbs                                                                                                5.07 pounds',\n",
       "       'lb 4 lb 36.3 lb',\n",
       "       'ounces                                                                                                4.5 ounces',\n",
       "       'oz 2.9 oz', 'lb 0.22 lb', 'oz 7.23 oz 14.110 oz', 'lb 15.4 lb',\n",
       "       'lbs                                                                                      1.1 pounds',\n",
       "       'ounces                                                                                      6.6 ounces',\n",
       "       'oz 4.09 oz 12.17 oz',\n",
       "       'ounces                                                                                      1.6 ounces',\n",
       "       'lbs                                                                                      12 pounds',\n",
       "       'oz 0.8 oz',\n",
       "       'lb                                                                                      10.1 ounces',\n",
       "       'ounces                                                                                      5.9 ounces'],\n",
       "      dtype=object)"
      ]
     },
     "execution_count": 1051,
     "metadata": {},
     "output_type": "execute_result"
    }
   ],
   "source": [
    "weight_table.weight_metric.unique()"
   ]
  },
  {
   "cell_type": "code",
   "execution_count": 1052,
   "metadata": {},
   "outputs": [],
   "source": [
    "weight_table.at[536:541,'weight_num']=np.NaN\n",
    "weight_table.at[6187:6213,'weight_num']=np.NaN"
   ]
  },
  {
   "cell_type": "code",
   "execution_count": 1053,
   "metadata": {},
   "outputs": [],
   "source": [
    "weight_table['weight_num'] = weight_table['weight_num'].astype(float)"
   ]
  },
  {
   "cell_type": "code",
   "execution_count": 1054,
   "metadata": {},
   "outputs": [
    {
     "data": {
      "text/html": [
       "<div>\n",
       "<style scoped>\n",
       "    .dataframe tbody tr th:only-of-type {\n",
       "        vertical-align: middle;\n",
       "    }\n",
       "\n",
       "    .dataframe tbody tr th {\n",
       "        vertical-align: top;\n",
       "    }\n",
       "\n",
       "    .dataframe thead th {\n",
       "        text-align: right;\n",
       "    }\n",
       "</style>\n",
       "<table border=\"1\" class=\"dataframe\">\n",
       "  <thead>\n",
       "    <tr style=\"text-align: right;\">\n",
       "      <th></th>\n",
       "      <th>weight_metric</th>\n",
       "      <th>count(*)</th>\n",
       "    </tr>\n",
       "  </thead>\n",
       "  <tbody>\n",
       "    <tr>\n",
       "      <th>0</th>\n",
       "      <td>pounds</td>\n",
       "      <td>5989</td>\n",
       "    </tr>\n",
       "    <tr>\n",
       "      <th>1</th>\n",
       "      <td>lb</td>\n",
       "      <td>2803</td>\n",
       "    </tr>\n",
       "    <tr>\n",
       "      <th>2</th>\n",
       "      <td>ounces</td>\n",
       "      <td>2488</td>\n",
       "    </tr>\n",
       "    <tr>\n",
       "      <th>3</th>\n",
       "      <td>oz</td>\n",
       "      <td>1098</td>\n",
       "    </tr>\n",
       "    <tr>\n",
       "      <th>4</th>\n",
       "      <td>lbs</td>\n",
       "      <td>619</td>\n",
       "    </tr>\n",
       "    <tr>\n",
       "      <th>...</th>\n",
       "      <td>...</td>\n",
       "      <td>...</td>\n",
       "    </tr>\n",
       "    <tr>\n",
       "      <th>81</th>\n",
       "      <td>lbs                                           ...</td>\n",
       "      <td>2</td>\n",
       "    </tr>\n",
       "    <tr>\n",
       "      <th>82</th>\n",
       "      <td>lbs                                           ...</td>\n",
       "      <td>2</td>\n",
       "    </tr>\n",
       "    <tr>\n",
       "      <th>83</th>\n",
       "      <td>ounces                                        ...</td>\n",
       "      <td>2</td>\n",
       "    </tr>\n",
       "    <tr>\n",
       "      <th>84</th>\n",
       "      <td>ounces                                        ...</td>\n",
       "      <td>2</td>\n",
       "    </tr>\n",
       "    <tr>\n",
       "      <th>85</th>\n",
       "      <td>ounces                                        ...</td>\n",
       "      <td>2</td>\n",
       "    </tr>\n",
       "  </tbody>\n",
       "</table>\n",
       "<p>86 rows × 2 columns</p>\n",
       "</div>"
      ],
      "text/plain": [
       "                                        weight_metric  count(*)\n",
       "0                                              pounds      5989\n",
       "1                                                  lb      2803\n",
       "2                                              ounces      2488\n",
       "3                                                  oz      1098\n",
       "4                                                 lbs       619\n",
       "..                                                ...       ...\n",
       "81  lbs                                           ...         2\n",
       "82  lbs                                           ...         2\n",
       "83  ounces                                        ...         2\n",
       "84  ounces                                        ...         2\n",
       "85  ounces                                        ...         2\n",
       "\n",
       "[86 rows x 2 columns]"
      ]
     },
     "execution_count": 1054,
     "metadata": {},
     "output_type": "execute_result"
    }
   ],
   "source": [
    "sqldf(\"select weight_metric, count(*) from weight_table group by weight_metric order by count(*) DESC\")"
   ]
  },
  {
   "cell_type": "code",
   "execution_count": 1055,
   "metadata": {},
   "outputs": [],
   "source": [
    "weight_table['weight_norm'] = np.where(weight_table['weight_metric'] == 'ounces',\n",
    "                                           weight_table['weight_num'] * 0.0625,\n",
    "                                           np.where(weight_table['weight_metric'] == 'oz',\n",
    "                                                    weight_table['weight_num'] * 0.0625,\n",
    "                                                   np.where(weight_table['weight_metric'] == 'OUNCE',\n",
    "                                                            weight_table['weight_num'] * 0.0625,\n",
    "                                                            np.where(weight_table['weight_metric'] == 'g',\n",
    "                                                                    weight_table['weight_num'] * 0.0022046226218,\n",
    "                                                                       np.where(weight_table['weight_metric'] == 'kg',\n",
    "                                                                               weight_table['weight_num'] * 2.20462262185,\n",
    "                                                                                np.where(weight_table['weight_metric'] == 'Kg',\n",
    "                                                                                   weight_table['weight_num'] * 2.20462262185,\n",
    "                                                                                        np.where(weight_table['weight_metric'] == 'oz 0.8 oz',\n",
    "                                                                                           weight_table['weight_num'] * 0.0625,\n",
    "                                                                                           np.where(weight_table['weight_metric'] == 'oz 10.41 oz',\n",
    "                                                                                                    weight_table['weight_num'] * 0.0625,\n",
    "                                                                                                   np.where(weight_table['weight_metric'] == 'oz 10.6 oz 1.1 lb',\n",
    "                                                                                                            weight_table['weight_num'] * 0.0625,\n",
    "                                                                                                            np.where(weight_table['weight_metric'] == 'oz 2.9 oz',\n",
    "                                                                                                                    weight_table['weight_num'] * 0.0625,\n",
    "                                                                                                                       np.where(weight_table['weight_metric'] == 'oz 3.2 oz',\n",
    "                                                                                                                               weight_table['weight_num'] * 0.0625,\n",
    "                                                                                                                                np.where(weight_table['weight_metric'] == 'oz 3.88 oz 8.2 oz',\n",
    "                                                                                                                                   weight_table['weight_num'] * 0.0625,\n",
    "                                                                                                                                         np.where(weight_table['weight_metric'] == 'oz 4.09 oz',\n",
    "                                                                                                                                           weight_table['weight_num'] * 0.0625,\n",
    "                                                                                                                                                  np.where(weight_table['weight_metric'] == 'oz 4.09 oz 12.17 oz',\n",
    "                                                                                                                                                       weight_table['weight_num'] * 0.0625,\n",
    "                                                                                                                                                          np.where(weight_table['weight_metric'] == 'oz 4.09 oz 8.5 oz 3.1 oz',\n",
    "                                                                                                                                                               weight_table['weight_num'] * 0.0625,\n",
    "                                                                                                                                                                    np.where(weight_table['weight_metric'] == 'oz 4.6 oz',\n",
    "                                                                                                                                                                           weight_table['weight_num'] * 0.0625,\n",
    "                                                                                                                                                                              np.where(weight_table['weight_metric'] == 'oz 7.23 oz 14.110 oz',\n",
    "                                                                                                                                                                                   weight_table['weight_num'] * 0.0625,\n",
    "                                                                                                                                                                                      weight_table['weight_num'])))))))))))))))))"
   ]
  },
  {
   "cell_type": "code",
   "execution_count": 1056,
   "metadata": {},
   "outputs": [],
   "source": [
    "weight_table.at[5191:5202,'weight_norm']=np.NaN"
   ]
  },
  {
   "cell_type": "code",
   "execution_count": 1057,
   "metadata": {},
   "outputs": [],
   "source": [
    "data_train_non_trans_merge = pd.merge(data_train_non_trans, weight_table, left_index=True, right_index=True)"
   ]
  },
  {
   "cell_type": "code",
   "execution_count": 1058,
   "metadata": {},
   "outputs": [
    {
     "data": {
      "text/html": [
       "<div>\n",
       "<style scoped>\n",
       "    .dataframe tbody tr th:only-of-type {\n",
       "        vertical-align: middle;\n",
       "    }\n",
       "\n",
       "    .dataframe tbody tr th {\n",
       "        vertical-align: top;\n",
       "    }\n",
       "\n",
       "    .dataframe thead th {\n",
       "        text-align: right;\n",
       "    }\n",
       "</style>\n",
       "<table border=\"1\" class=\"dataframe\">\n",
       "  <thead>\n",
       "    <tr style=\"text-align: right;\">\n",
       "      <th></th>\n",
       "      <th>id</th>\n",
       "      <th>prices.availability</th>\n",
       "      <th>prices.condition</th>\n",
       "      <th>prices.dateSeen</th>\n",
       "      <th>prices.isSale</th>\n",
       "      <th>prices.merchant</th>\n",
       "      <th>prices.shipping</th>\n",
       "      <th>sourceURLs</th>\n",
       "      <th>brand</th>\n",
       "      <th>categories</th>\n",
       "      <th>...</th>\n",
       "      <th>name</th>\n",
       "      <th>primaryCategories</th>\n",
       "      <th>weight</th>\n",
       "      <th>prices.currency</th>\n",
       "      <th>prices.amountMin</th>\n",
       "      <th>prices.amountMax</th>\n",
       "      <th>price_USD</th>\n",
       "      <th>weight_num</th>\n",
       "      <th>weight_metric</th>\n",
       "      <th>weight_norm</th>\n",
       "    </tr>\n",
       "  </thead>\n",
       "  <tbody>\n",
       "    <tr>\n",
       "      <th>0</th>\n",
       "      <td>AVphzgbJLJeJML43fA0o</td>\n",
       "      <td>Yes</td>\n",
       "      <td>New</td>\n",
       "      <td>2017-03-30T06:00:00Z,2017-03-10T22:00:00Z,2017...</td>\n",
       "      <td>False</td>\n",
       "      <td>Bestbuy.com</td>\n",
       "      <td>NaN</td>\n",
       "      <td>https://www.amazon.com/Sanus-VLF410B1-10-Inch-...</td>\n",
       "      <td>Sanus</td>\n",
       "      <td>Audio &amp; Video Accessories,TV Mounts,TV Accesso...</td>\n",
       "      <td>...</td>\n",
       "      <td>Sanus VLF410B1 10-Inch Super Slim Full-Motion ...</td>\n",
       "      <td>Electronics</td>\n",
       "      <td>32.8 pounds</td>\n",
       "      <td>USD</td>\n",
       "      <td>104.99</td>\n",
       "      <td>104.99</td>\n",
       "      <td>104.99</td>\n",
       "      <td>32.8</td>\n",
       "      <td>pounds</td>\n",
       "      <td>32.8</td>\n",
       "    </tr>\n",
       "  </tbody>\n",
       "</table>\n",
       "<p>1 rows × 24 columns</p>\n",
       "</div>"
      ],
      "text/plain": [
       "                     id prices.availability prices.condition  \\\n",
       "0  AVphzgbJLJeJML43fA0o                 Yes              New   \n",
       "\n",
       "                                     prices.dateSeen  prices.isSale  \\\n",
       "0  2017-03-30T06:00:00Z,2017-03-10T22:00:00Z,2017...          False   \n",
       "\n",
       "  prices.merchant prices.shipping  \\\n",
       "0     Bestbuy.com             NaN   \n",
       "\n",
       "                                          sourceURLs  brand  \\\n",
       "0  https://www.amazon.com/Sanus-VLF410B1-10-Inch-...  Sanus   \n",
       "\n",
       "                                          categories  ...  \\\n",
       "0  Audio & Video Accessories,TV Mounts,TV Accesso...  ...   \n",
       "\n",
       "                                                name primaryCategories  \\\n",
       "0  Sanus VLF410B1 10-Inch Super Slim Full-Motion ...       Electronics   \n",
       "\n",
       "        weight prices.currency prices.amountMin prices.amountMax price_USD  \\\n",
       "0  32.8 pounds             USD           104.99           104.99    104.99   \n",
       "\n",
       "  weight_num  weight_metric  weight_norm  \n",
       "0       32.8         pounds         32.8  \n",
       "\n",
       "[1 rows x 24 columns]"
      ]
     },
     "execution_count": 1058,
     "metadata": {},
     "output_type": "execute_result"
    }
   ],
   "source": [
    "data_train_non_trans_merge.head(1)"
   ]
  },
  {
   "cell_type": "code",
   "execution_count": 1059,
   "metadata": {},
   "outputs": [],
   "source": [
    "#As we can see, column categories is text splited by comma. Let's split it into several columns"
   ]
  },
  {
   "cell_type": "code",
   "execution_count": 1060,
   "metadata": {},
   "outputs": [
    {
     "data": {
      "text/html": [
       "<div>\n",
       "<style scoped>\n",
       "    .dataframe tbody tr th:only-of-type {\n",
       "        vertical-align: middle;\n",
       "    }\n",
       "\n",
       "    .dataframe tbody tr th {\n",
       "        vertical-align: top;\n",
       "    }\n",
       "\n",
       "    .dataframe thead th {\n",
       "        text-align: right;\n",
       "    }\n",
       "</style>\n",
       "<table border=\"1\" class=\"dataframe\">\n",
       "  <thead>\n",
       "    <tr style=\"text-align: right;\">\n",
       "      <th></th>\n",
       "      <th>categories</th>\n",
       "    </tr>\n",
       "  </thead>\n",
       "  <tbody>\n",
       "    <tr>\n",
       "      <th>0</th>\n",
       "      <td>Audio &amp; Video Accessories,TV Mounts,TV Accesso...</td>\n",
       "    </tr>\n",
       "    <tr>\n",
       "      <th>1</th>\n",
       "      <td>Stereos,Portable Bluetooth Speakers,TV, Video ...</td>\n",
       "    </tr>\n",
       "    <tr>\n",
       "      <th>2</th>\n",
       "      <td>Stereos,Portable Bluetooth Speakers,TV, Video ...</td>\n",
       "    </tr>\n",
       "    <tr>\n",
       "      <th>3</th>\n",
       "      <td>Stereos,Portable Bluetooth Speakers,TV, Video ...</td>\n",
       "    </tr>\n",
       "    <tr>\n",
       "      <th>4</th>\n",
       "      <td>Stereos,Portable Bluetooth Speakers,TV, Video ...</td>\n",
       "    </tr>\n",
       "    <tr>\n",
       "      <th>...</th>\n",
       "      <td>...</td>\n",
       "    </tr>\n",
       "    <tr>\n",
       "      <th>14587</th>\n",
       "      <td>TVs &amp; Electronics,Computers,Home Theater &amp; Aud...</td>\n",
       "    </tr>\n",
       "    <tr>\n",
       "      <th>14588</th>\n",
       "      <td>TVs &amp; Electronics,Computers,Home Theater &amp; Aud...</td>\n",
       "    </tr>\n",
       "    <tr>\n",
       "      <th>14589</th>\n",
       "      <td>TVs &amp; Electronics,Computers,Home Theater &amp; Aud...</td>\n",
       "    </tr>\n",
       "    <tr>\n",
       "      <th>14590</th>\n",
       "      <td>TVs &amp; Electronics,Computers,Home Theater &amp; Aud...</td>\n",
       "    </tr>\n",
       "    <tr>\n",
       "      <th>14591</th>\n",
       "      <td>TVs &amp; Electronics,Computers,Home Theater &amp; Aud...</td>\n",
       "    </tr>\n",
       "  </tbody>\n",
       "</table>\n",
       "<p>14592 rows × 1 columns</p>\n",
       "</div>"
      ],
      "text/plain": [
       "                                              categories\n",
       "0      Audio & Video Accessories,TV Mounts,TV Accesso...\n",
       "1      Stereos,Portable Bluetooth Speakers,TV, Video ...\n",
       "2      Stereos,Portable Bluetooth Speakers,TV, Video ...\n",
       "3      Stereos,Portable Bluetooth Speakers,TV, Video ...\n",
       "4      Stereos,Portable Bluetooth Speakers,TV, Video ...\n",
       "...                                                  ...\n",
       "14587  TVs & Electronics,Computers,Home Theater & Aud...\n",
       "14588  TVs & Electronics,Computers,Home Theater & Aud...\n",
       "14589  TVs & Electronics,Computers,Home Theater & Aud...\n",
       "14590  TVs & Electronics,Computers,Home Theater & Aud...\n",
       "14591  TVs & Electronics,Computers,Home Theater & Aud...\n",
       "\n",
       "[14592 rows x 1 columns]"
      ]
     },
     "execution_count": 1060,
     "metadata": {},
     "output_type": "execute_result"
    }
   ],
   "source": [
    "data_train_non_trans_merge[['categories']]"
   ]
  },
  {
   "cell_type": "code",
   "execution_count": 1061,
   "metadata": {},
   "outputs": [
    {
     "data": {
      "text/html": [
       "<div>\n",
       "<style scoped>\n",
       "    .dataframe tbody tr th:only-of-type {\n",
       "        vertical-align: middle;\n",
       "    }\n",
       "\n",
       "    .dataframe tbody tr th {\n",
       "        vertical-align: top;\n",
       "    }\n",
       "\n",
       "    .dataframe thead th {\n",
       "        text-align: right;\n",
       "    }\n",
       "</style>\n",
       "<table border=\"1\" class=\"dataframe\">\n",
       "  <thead>\n",
       "    <tr style=\"text-align: right;\">\n",
       "      <th></th>\n",
       "      <th>id</th>\n",
       "      <th>prices.availability</th>\n",
       "      <th>prices.condition</th>\n",
       "      <th>prices.dateSeen</th>\n",
       "      <th>prices.isSale</th>\n",
       "      <th>prices.merchant</th>\n",
       "      <th>prices.shipping</th>\n",
       "      <th>sourceURLs</th>\n",
       "      <th>brand</th>\n",
       "      <th>categories</th>\n",
       "      <th>...</th>\n",
       "      <th>weight_num</th>\n",
       "      <th>weight_metric</th>\n",
       "      <th>weight_norm</th>\n",
       "      <th>0</th>\n",
       "      <th>1</th>\n",
       "      <th>2</th>\n",
       "      <th>3</th>\n",
       "      <th>4</th>\n",
       "      <th>5</th>\n",
       "      <th>6</th>\n",
       "    </tr>\n",
       "  </thead>\n",
       "  <tbody>\n",
       "    <tr>\n",
       "      <th>0</th>\n",
       "      <td>AVphzgbJLJeJML43fA0o</td>\n",
       "      <td>Yes</td>\n",
       "      <td>New</td>\n",
       "      <td>2017-03-30T06:00:00Z,2017-03-10T22:00:00Z,2017...</td>\n",
       "      <td>False</td>\n",
       "      <td>Bestbuy.com</td>\n",
       "      <td>NaN</td>\n",
       "      <td>https://www.amazon.com/Sanus-VLF410B1-10-Inch-...</td>\n",
       "      <td>Sanus</td>\n",
       "      <td>Audio &amp; Video Accessories,TV Mounts,TV Accesso...</td>\n",
       "      <td>...</td>\n",
       "      <td>32.8</td>\n",
       "      <td>pounds</td>\n",
       "      <td>32.8</td>\n",
       "      <td>Audio &amp; Video Accessories</td>\n",
       "      <td>TV Mounts</td>\n",
       "      <td>TV Accessories &amp; Parts</td>\n",
       "      <td>Electronics</td>\n",
       "      <td>A/V Presentation</td>\n",
       "      <td>Accessories &amp; Supplies</td>\n",
       "      <td>TV Ceiling &amp; Wall Mounts</td>\n",
       "    </tr>\n",
       "  </tbody>\n",
       "</table>\n",
       "<p>1 rows × 31 columns</p>\n",
       "</div>"
      ],
      "text/plain": [
       "                     id prices.availability prices.condition  \\\n",
       "0  AVphzgbJLJeJML43fA0o                 Yes              New   \n",
       "\n",
       "                                     prices.dateSeen  prices.isSale  \\\n",
       "0  2017-03-30T06:00:00Z,2017-03-10T22:00:00Z,2017...          False   \n",
       "\n",
       "  prices.merchant prices.shipping  \\\n",
       "0     Bestbuy.com             NaN   \n",
       "\n",
       "                                          sourceURLs  brand  \\\n",
       "0  https://www.amazon.com/Sanus-VLF410B1-10-Inch-...  Sanus   \n",
       "\n",
       "                                          categories  ... weight_num  \\\n",
       "0  Audio & Video Accessories,TV Mounts,TV Accesso...  ...       32.8   \n",
       "\n",
       "  weight_metric weight_norm                          0          1  \\\n",
       "0        pounds        32.8  Audio & Video Accessories  TV Mounts   \n",
       "\n",
       "                        2            3                 4  \\\n",
       "0  TV Accessories & Parts  Electronics  A/V Presentation   \n",
       "\n",
       "                        5                         6  \n",
       "0  Accessories & Supplies  TV Ceiling & Wall Mounts  \n",
       "\n",
       "[1 rows x 31 columns]"
      ]
     },
     "execution_count": 1061,
     "metadata": {},
     "output_type": "execute_result"
    }
   ],
   "source": [
    "pd.concat([data_train_non_trans_merge,data_train_non_trans_merge.categories.str.split(',', n=6, expand=True)],1).head(1)"
   ]
  },
  {
   "cell_type": "code",
   "execution_count": 1062,
   "metadata": {},
   "outputs": [],
   "source": [
    "data_train_non_trans_merge=pd.concat([data_train_non_trans_merge,data_train_non_trans_merge.categories.str.split(',', n=6, expand=True)],1)"
   ]
  },
  {
   "cell_type": "code",
   "execution_count": 1063,
   "metadata": {},
   "outputs": [
    {
     "data": {
      "text/html": [
       "<div>\n",
       "<style scoped>\n",
       "    .dataframe tbody tr th:only-of-type {\n",
       "        vertical-align: middle;\n",
       "    }\n",
       "\n",
       "    .dataframe tbody tr th {\n",
       "        vertical-align: top;\n",
       "    }\n",
       "\n",
       "    .dataframe thead th {\n",
       "        text-align: right;\n",
       "    }\n",
       "</style>\n",
       "<table border=\"1\" class=\"dataframe\">\n",
       "  <thead>\n",
       "    <tr style=\"text-align: right;\">\n",
       "      <th></th>\n",
       "      <th>id</th>\n",
       "      <th>prices.availability</th>\n",
       "      <th>prices.condition</th>\n",
       "      <th>prices.dateSeen</th>\n",
       "      <th>prices.isSale</th>\n",
       "      <th>prices.merchant</th>\n",
       "      <th>prices.shipping</th>\n",
       "      <th>sourceURLs</th>\n",
       "      <th>brand</th>\n",
       "      <th>categories</th>\n",
       "      <th>...</th>\n",
       "      <th>weight_num</th>\n",
       "      <th>weight_metric</th>\n",
       "      <th>weight_norm</th>\n",
       "      <th>0</th>\n",
       "      <th>1</th>\n",
       "      <th>2</th>\n",
       "      <th>3</th>\n",
       "      <th>4</th>\n",
       "      <th>5</th>\n",
       "      <th>6</th>\n",
       "    </tr>\n",
       "  </thead>\n",
       "  <tbody>\n",
       "    <tr>\n",
       "      <th>0</th>\n",
       "      <td>AVphzgbJLJeJML43fA0o</td>\n",
       "      <td>Yes</td>\n",
       "      <td>New</td>\n",
       "      <td>2017-03-30T06:00:00Z,2017-03-10T22:00:00Z,2017...</td>\n",
       "      <td>False</td>\n",
       "      <td>Bestbuy.com</td>\n",
       "      <td>NaN</td>\n",
       "      <td>https://www.amazon.com/Sanus-VLF410B1-10-Inch-...</td>\n",
       "      <td>Sanus</td>\n",
       "      <td>Audio &amp; Video Accessories,TV Mounts,TV Accesso...</td>\n",
       "      <td>...</td>\n",
       "      <td>32.8</td>\n",
       "      <td>pounds</td>\n",
       "      <td>32.8</td>\n",
       "      <td>Audio &amp; Video Accessories</td>\n",
       "      <td>TV Mounts</td>\n",
       "      <td>TV Accessories &amp; Parts</td>\n",
       "      <td>Electronics</td>\n",
       "      <td>A/V Presentation</td>\n",
       "      <td>Accessories &amp; Supplies</td>\n",
       "      <td>TV Ceiling &amp; Wall Mounts</td>\n",
       "    </tr>\n",
       "  </tbody>\n",
       "</table>\n",
       "<p>1 rows × 31 columns</p>\n",
       "</div>"
      ],
      "text/plain": [
       "                     id prices.availability prices.condition  \\\n",
       "0  AVphzgbJLJeJML43fA0o                 Yes              New   \n",
       "\n",
       "                                     prices.dateSeen  prices.isSale  \\\n",
       "0  2017-03-30T06:00:00Z,2017-03-10T22:00:00Z,2017...          False   \n",
       "\n",
       "  prices.merchant prices.shipping  \\\n",
       "0     Bestbuy.com             NaN   \n",
       "\n",
       "                                          sourceURLs  brand  \\\n",
       "0  https://www.amazon.com/Sanus-VLF410B1-10-Inch-...  Sanus   \n",
       "\n",
       "                                          categories  ... weight_num  \\\n",
       "0  Audio & Video Accessories,TV Mounts,TV Accesso...  ...       32.8   \n",
       "\n",
       "  weight_metric weight_norm                          0          1  \\\n",
       "0        pounds        32.8  Audio & Video Accessories  TV Mounts   \n",
       "\n",
       "                        2            3                 4  \\\n",
       "0  TV Accessories & Parts  Electronics  A/V Presentation   \n",
       "\n",
       "                        5                         6  \n",
       "0  Accessories & Supplies  TV Ceiling & Wall Mounts  \n",
       "\n",
       "[1 rows x 31 columns]"
      ]
     },
     "execution_count": 1063,
     "metadata": {},
     "output_type": "execute_result"
    }
   ],
   "source": [
    "data_train_non_trans_merge.head(1)"
   ]
  },
  {
   "cell_type": "code",
   "execution_count": 1064,
   "metadata": {},
   "outputs": [],
   "source": [
    "#As we can see, column prices.condition has a lot of \"strange values\" and some of them can also be grouped. \n",
    "#(e.g. classes Refurbished, refurbished and refurbished has the same meaning)"
   ]
  },
  {
   "cell_type": "code",
   "execution_count": 1065,
   "metadata": {},
   "outputs": [
    {
     "data": {
      "text/plain": [
       "array(['New', 'new', 'Seller refurbished', 'Used', 'pre-owned',\n",
       "       'Refurbished', 'Manufacturer refurbished',\n",
       "       'New other (see details)', 'refurbished',\n",
       "       'New Kicker BT2 41IK5BT2V2 Wireless Bluetooth USB Audio System Black + Remote, Power Supply (volts, ampere): 24, 2.9, Square Reflex Subwoofer (in., mm): 6 x 6\", Stereo Amp Power with DSP (watts): 50, App for customizing - KickStart, Remote Control Included, Height x Width x Depth (in, mm): 8.87\" x 19\" x 9.14\", Frequency Response (Hz): 24-20k, +-3dB, Woofer (in., cm): 5\", 1 Year Manufacturer Warranty, Item Weight: 13.85 lbs., USB Port, Compatible with: Bluetooth-enabled devices, Aux-in, Speaker Design: 2-Way Full-Range, Bluetooth wireless streaming, Condition: Brand New!, Tweeter (in., cm): 3/4\"',\n",
       "       '5/16\" Ring Terminal, 3 ft. 8 GA Black Ground Cable, 6 ft. Split Loom Tubing, Depth: 6.5\" (165mm) (top) 11.2\" (285mm) (bottom), Item Weight: 18.5 lbs., Frequency Response 25Hz - 500Hz, Line Output, Max Power: 1100 Watt x 1 Channel @ 2 Ohm, 30 ft. Speaker Wire, Boss Illuminated Logo, Height: 12.8\" (325mm), (3) Rubber Grommets, Item Weight: 2 lbs., Size 10\", 20 ft. 8 GA Red Power Cable, Ported enclosure for greater output and deeper bass, 2 Ohm Stable, Class A/B, Voice Coil Size 2\", Black rubber surround, Nominal Impedance 4 ohm, Rugged fiberboard construction with thick carpet covering, Warranty: 1 Year Manufacturer Warranty, MOSFET Power, Weight: 6 lbs, Width: 17.7\" (450mm), Condition: Brand New!, Low Pass Crossover, List item, RMS Power: 250 Watt x 1 Channel @ 4 Ohm, Remote Bass Control Included!, 1/4\" Ring Terminal, 16 ft. 18 GA Blue Turn-On Wire, Peak Power: 500 Watts, Competition High Quality Fuse Holder, Condition: BRAND NEW!, Product Condition: Brand New, RMS Power: 175 Watts, Aluminum woofer cone, THD: 0.01%, 1 Year Manufacturer Warranty, Dimensions: 10-7/16\" (W) x 2-1/4\" (H) x 9-1/8\" (L), #10 Ring Terminal, 20 ft. High Performance Black RCA, SPL (db @ 1w/1m) 88dB, New Dual SBX101 10\" 500 Watts Car Audio Subwoofer Sub + Ported Sub Enclosure, (20) 4\" Wire Ties',\n",
       "       'Top-mount Depth: 3-1/8\", 2) New Kicker 41KSC6934 6x9\" 3-Way 300 Watt Car Audio Coaxial Speakers KSC693, Item Weight: 8 lbs., 3/4\" silk dome tweeter, 4 ohms impedance, Tweeter Magnet: Neodymium, Tweeter Protrusion: 3/16, Rubber surround, Peak: 300 watts, Mounting Hole Diameter: 5-11/16x8-7/16\", 1 Year Manufacturer Warranty, RMS: 150 watts, Bottom Mount Depth: 3-5/8\", Grilles: Yes, Frequency Response: 30-21,000 Hz, Sensitivity: 92dB, Polypropylene midwoofer, Condition: Brand New!',\n",
       "       'Product warranty: 1-year warranty, Top-mount Depth: 3-1/8\", Item Weight: 8 lbs., 3/4\" silk dome tweeter, 4 ohms impedance, Tweeter Magnet: Neodymium, Tweeter Protrusion: 3/16, Rubber surround, Peak: 300 watts, Mounting Hole Diameter: 5-11/16x8-7/16\", RMS: 150 watts, Bottom Mount Depth: 3-5/8\", Grilles: Yes, Kicker 41KSC6934 6x9\" 3-Way 300 Watt Car Audio Coaxial Speakers KSC693, Frequency Response: 30-21,000 Hz, Quantity: 4 speakers, Sensitivity: 92dB, Polypropylene midwoofer, Condition: Brand New!',\n",
       "       nan,\n",
       "       'Magnet - Neodymium, SearsCondition - Refurbished, Refresh Rate - 4Hz - 100kHz, Headphone Type - Over the Head, Driver Unit - 70mm, Power Handling (Watts) - 2000mW, Plug Type - 3.5mm, Audio Accessories - Headphones, Headphone Uses - Audiophile; iPod, Color - Black; Black, Impedance - 70 ohm, Cable Length - 6 - 6.99 Feet; 9 - 9.99 Feet, Sensitivity - 102dB, Headphone Styles - Over-ear',\n",
       "       'For parts or not working', 'Brand New',\n",
       "       'iPod Skip/2 Speed Search Function, Surround: Cloth, Random/Repeat Play, Loudness, Impedance 4 ohms, Front AUX & USB Interface with slide protection cover, iPod/iPhone Direct Connection with Optional cable*1, FM Stereo/Mono Selector, Bass Boost, Frequency Response: 35 Hz - 20k Hz, Variable Color Illumination, General Features, Item Weight: 2 lbs., CD-R/CD-RW Compatible, 13 Digit 1.5Line LCD Display, Sirius XM (SXV100/200/300) Ready, RBDS with Radio Text, USB Features, Sensitivity: 92 dB / W / m, Built-in LPF/HPF, Equalizer (13Band), CD Text Ready, Subwoofer Level Adjustable, Dimmer Control Function (Manual/Set by timer), Magnet: Ferrite, Weight of Magnet (Woofer): 0.2lbs, Rotary Encoder and Direct Key (TEL) for easy operation, Android Rapid Charge, MP3, WMA, AAC, WAV, FLAC Decoder with ID-3 Tag Display, Drive Change (For Android or Card Reader), Diaphragm: PP Cone, RMS Power: 30W, Digital Clock (12H), MP3, WMA, AAC Decoder with ID-3 Tag Display, 1 Year VMInnovations Warranty, AME (Automatic Memory Entry), 0-bit Mute, Condition: Brand New!, Wireless Music Browsing, Basket Steel: Black, Dual Phone Connection, Drive EQ, Part Number: DPX502BT, Up/Down Seek Tuning, Backup Memory for Tuner Preset, Folder Name Manual Search Function without Stopping Audio-play, Mounting Depth: 1-11/16inch, Stage EQ, Condition: New, Multi language(English, Spanish), FM/AM 24 Station Presets (18FM, 6AM), Kenwood sound reconstruction, restores musical to compressed music, Cutout Diameter: 4-7/8inch, System Q, Woofer: 6-1/2inch PP Cone, Android Music Playback, CD Features, MP3/WMA/AAC/WAV/FLAC Files Playback with ID-3 Tag Display, MAX Power: 300W, Audio Features, Maximum Output Power : 50W x 4 (MOSFET Power IC), 3 Preout (2.5V), Tuner Features, Pandora / iHeart Radio App Ready (iPhone App)',\n",
       "       'Pioneer 10\" TS-SW2502 Pre-Load Shallow Subwoofer Enclosure, Frequency Response: 93dB, Oversized Cone Structure, Compact-Space Saving Design, Cone Material: MICA injection-molded resin, Part Number: TS-SWX2502 (TSSWX2502), Impedance: Single 4 Ohm, Enclosure Dimensions: 18-5/8\" x 13 7/8\" x 6\", RMS Power: 300 Watts, Max Power: 1200 Watts, 1 Year Warranty, Condition: Brand New!'],\n",
       "      dtype=object)"
      ]
     },
     "execution_count": 1065,
     "metadata": {},
     "output_type": "execute_result"
    }
   ],
   "source": [
    "data_train_non_trans_merge['prices.condition'].unique()"
   ]
  },
  {
   "cell_type": "code",
   "execution_count": 1066,
   "metadata": {},
   "outputs": [],
   "source": [
    "data_train_non_trans_merge.at[878:879,'prices.condition']=\"New\"\n",
    "data_train_non_trans_merge.loc[7473,'prices.condition'] = \"New\"\n",
    "data_train_non_trans_merge.loc[9925,'prices.condition'] = \"Refubrished\"\n",
    "data_train_non_trans_merge.loc[2592,'prices.condition'] = \"New\"\n",
    "data_train_non_trans_merge.loc[7474,'prices.condition'] = \"New\"\n",
    "data_train_non_trans_merge.loc[12143,'prices.condition'] = \"New\"\n",
    "data_train_non_trans_merge.loc[14279,'prices.condition'] = \"New\""
   ]
  },
  {
   "cell_type": "code",
   "execution_count": 1067,
   "metadata": {},
   "outputs": [],
   "source": [
    "data_train_non_trans_merge['prices.condition'] = np.where(data_train_non_trans_merge['prices.condition'] == \"Brand New\", \"New\", data_train_non_trans_merge['prices.condition'])"
   ]
  },
  {
   "cell_type": "code",
   "execution_count": 1068,
   "metadata": {},
   "outputs": [
    {
     "data": {
      "text/plain": [
       "array(['New', 'new', 'Seller refurbished', 'Used', 'pre-owned',\n",
       "       'Refurbished', 'Manufacturer refurbished',\n",
       "       'New other (see details)', 'refurbished', nan, 'Refubrished',\n",
       "       'For parts or not working'], dtype=object)"
      ]
     },
     "execution_count": 1068,
     "metadata": {},
     "output_type": "execute_result"
    }
   ],
   "source": [
    "data_train_non_trans_merge[\"prices.condition\"].unique()"
   ]
  },
  {
   "cell_type": "code",
   "execution_count": 1069,
   "metadata": {},
   "outputs": [],
   "source": [
    "#As we can see, prices.shipping has a lot of \"strange values\". Let us also take care of this variable"
   ]
  },
  {
   "cell_type": "code",
   "execution_count": 1070,
   "metadata": {},
   "outputs": [
    {
     "data": {
      "text/plain": [
       "array([nan, 'Expedited', 'Value', 'Standard', 'Free Shipping',\n",
       "       'Free Shippingon orders 35 and up', 'Free Expedited Shipping',\n",
       "       'Free Shipping on orders 35 and up',\n",
       "       'Free Expedited Shipping for most orders over $49', 'FREE',\n",
       "       'Freight', 'Free Shipping for this Item', 'USD 7.95', 'USD 7.25',\n",
       "       'USD 26.09', 'USD 10.00',\n",
       "       'Free Standard Shipping on Orders Over $49', 'Free Delivery',\n",
       "       'USD 11.30', 'USD 15.42', 'USD 35.03', 'USD 0.99',\n",
       "       'Shipping Charges Apply', 'USD 60.00', 'USD 15.68', 'USD 5.99',\n",
       "       'USD 196.92', 'USD 22.64', 'USD 20.00', 'USD 13.32', 'USD 12.78',\n",
       "       'USD 13.25', 'USD 25.00', 'USD 6.65', 'USD 2.85', 'USD 7.81',\n",
       "       'USD 10.10', 'USD 75.00', 'USD 13.95', 'Free Standard Shipping',\n",
       "       'USD 20.55', 'USD 18.60', 'USD 11.75', 'USD 25.76', 'USD 27.94',\n",
       "       'USD 14.00', 'USD 13.60', 'USD 5.00', 'USD 13.61', 'USD 3.99',\n",
       "       'USD 7.50', 'USD 2.99', 'USD 12.21', 'USD 3.39', 'USD 22.13',\n",
       "       'USD 6.00', 'USD 4.88', 'USD 14.99', 'USD 4.96', 'USD 18.00',\n",
       "       'USD 10.95', 'CAD 18.61', 'USD 179.35', 'USD 24.04', 'USD 71.77',\n",
       "       'USD 140.00', 'USD 150.00', 'USD 29.99', 'USD 23.47', 'USD 79.42',\n",
       "       'USD 37.65', 'Free Next Day Delivery (USA)', 'USD 16.45',\n",
       "       'USD 3.80', 'USD 16.00', 'USD 180.10', 'USD 9.99', 'USD 16.55',\n",
       "       'USD 89.99', 'USD 17.99', 'USD 18.95', 'USD 100.00', 'USD 8.55',\n",
       "       'USD 8.95', 'USD 25.39', 'USD 4.95', 'USD 4.19', 'USD 15.53',\n",
       "       'USD 12.40', 'USD 21.96', 'USD 3.75', 'USD 12.99', 'USD 15.00',\n",
       "       'USD 14.21', 'USD 12.00', 'USD 8.00', 'USD 7.15', 'USD 119.99',\n",
       "       'FREE Shipping.', 'FREE Shipping', '2-4 days',\n",
       "       'Same day if ordered before 4pm', '10-12 days', 'USD 48.00',\n",
       "       'USD 9.68', 'Free Shipping for Prime Members FREE Shipping.',\n",
       "       'USD 37.56', 'FREE Shipping.Details',\n",
       "       'FREE Shippingor get FREE Two-Day Shipping with Amazon Prime',\n",
       "       'USD 9.58 shipping', 'USD 7.32 shipping',\n",
       "       'FREE shipping on orders 50+', 'FREE shipping on orders 50 +',\n",
       "       'USD 4.99 shipping', 'USD 30.00',\n",
       "       'FREE Shipping on orders over USD 35.00',\n",
       "       'Free Shipping for Prime Members FREE Shipping Get free shipping Free 5-8 business-day shipping within the U.00S. when you order USD 25 of eligible items sold or fulfilled by Amazon. Or get 4-5 business-day shipping on this item for 8.28. (Prices may vary for AK and HI.) Learn more about free shipping on orders over 25or get FREE Two-Day Shipping with Amazon Prime',\n",
       "       'USD 3.56', 'USD 4.99', 'USD 5.49 shipping',\n",
       "       'Free Shipping for Prime Members FREE Shipping Get free shipping Free 5-8 business-day shipping within the U.00S. when you order USD 25 of eligible items sold or fulfilled by Amazon. Or get 4-5 business-day shipping on this item for 5.99. (Prices may vary for AK and HI.) Learn more about free shipping on orders over 25or get FREE Two-Day Shipping with Amazon Prime',\n",
       "       'CAD 9.98', '4-6 days',\n",
       "       'FREE Shipping on orders over USD 25.00 Get free shipping Free 5-8 business-day shipping within the U.S. when you order 25 of eligible items sold or fulfilled by Amazon. Or get 4-5 business-day shipping on this item for 5.99. (Prices may vary for AK and HI.) Learn more about free shipping',\n",
       "       'free', 'USD 0.01', 'USD 8.99',\n",
       "       \"P.when('A').execute(function(A) if (typeof window.agPopOverCallbackHandle 'undefined') A.on(a:popover:show:agShipMsgPopover, function(data) A.ajax(https://fls-na.amazon.com/1/action-impressions/1/OE/amazon-global/action/amazonglobalshipmsg:activatedpopovermarketplaceIdATVPDKIKX0DERrequestIdEVC767EHPSQ58Z8VBAXAsession141-0509372-3062557, method: get ) ) window.agPopOverCallbackHandle true ) P.when('A').execute(function(A) if (typeof window.agMessageSeenCallbackHandle 'undefined') A.on.afterLoad(function() A.ajax(https://fls-na.amazon.com/1/action-impressions/1/OE/amazon-global/action/amazonglobalshipmsg:seenifdmessagemarketplaceIdATVPDKIKX0DERrequestIdEVC767EHPSQ58Z8VBAXAsession141-0509372-3062557, method: get ) ) window.agMessageSeenCallbackHandle true ) P.when('A').execute(function(A) recordHelpAndNavigate function(navigateFn) navigateFn() A.ajax(https://fls-na.amazon.com/1/action-impressions/1/OE/amazon-global/action/amazonglobalshipmsg:viewedhelpmarketplaceIdATVPDKIKX0DERrequestIdEVC767EHPSQ58Z8VBAXAsession141-0509372-3062557, method: get ) ) USD 169.73 Shipping Import Fees Deposit to France Shipping Fee Details Price 698.00 AmazonGlobal Shipping + 17.95 Estimated Import Fees Deposit + 151.78 Total 867.73 Learn more\",\n",
       "       \"P.when('A').execute(function(A) if (typeof window.agPopOverCallbackHandle 'undefined') A.on(a:popover:show:agShipMsgPopover, function(data) A.ajax(https://fls-na.amazon.com/1/action-impressions/1/OE/amazon-global/action/amazonglobalshipmsg:activatedpopovermarketplaceIdATVPDKIKX0DERrequestIdTKK39M8DVCVYX1YC8MMWsession133-8300269-9346849, method: get ) ) window.agPopOverCallbackHandle true ) P.when('A').execute(function(A) if (typeof window.agMessageSeenCallbackHandle 'undefined') A.on.afterLoad(function() A.ajax(https://fls-na.amazon.com/1/action-impressions/1/OE/amazon-global/action/amazonglobalshipmsg:seenifdmessagemarketplaceIdATVPDKIKX0DERrequestIdTKK39M8DVCVYX1YC8MMWsession133-8300269-9346849, method: get ) ) window.agMessageSeenCallbackHandle true ) P.when('A').execute(function(A) recordHelpAndNavigate function(navigateFn) navigateFn() A.ajax(https://fls-na.amazon.com/1/action-impressions/1/OE/amazon-global/action/amazonglobalshipmsg:viewedhelpmarketplaceIdATVPDKIKX0DERrequestIdTKK39M8DVCVYX1YC8MMWsession133-8300269-9346849, method: get ) ) USD 46.13 Shipping Import Fees Deposit to France Shipping Fee Details Price 169.70 AmazonGlobal Shipping + 10.16 Estimated Import Fees Deposit + 35.97 Total 215.83 Learn more\",\n",
       "       'USD 7.99', 'USD 13.99', 'USD 57.99', 'USD 40.00', 'USD 35.00',\n",
       "       'USD 15.99', 'CAD 18.18', 'USD 3.65 shipping',\n",
       "       'Free Shipping for Prime Members FREE Shippingor get FREE Two-Day Shipping with Amazon Prime',\n",
       "       '3-5 days', 'Call', 'USD 16.99 shipping', 'CAD 107.99',\n",
       "       'USD 8.72 shipping', 'USD 8.99 shipping',\n",
       "       'and eligible for FREE Two-Day Shipping', 'USD 24.99', 'USD 19.99',\n",
       "       'USD 21.00', 'USD 29.88', 'USD 29.69', 'Free', 'CAD 5.54',\n",
       "       'CAD 8.10', 'CAD 8.01', 'USD 45.00', 'USD 173.75', 'USD 33.23',\n",
       "       'USD 14.53', 'USD 23.96', 'USD 22.50', 'USD 20.21 shipping',\n",
       "       'USD 13.17', 'USD 13.84',\n",
       "       'FREE Shippingor get FREE Two-Day Shipping with Free Shipping for Prime Members',\n",
       "       '6-8 days', '1-3 days',\n",
       "       'Eligible for Free Expedited Shipping on orders over $49',\n",
       "       'USD 18.45 shipping', 'USD 29.82', 'USD 28.92', 'USD 20.73',\n",
       "       'USD 4.57 shipping',\n",
       "       \"P.when('A').execute(function(A) if (typeof window.agPopOverCallbackHandle 'undefined') A.on(a:popover:show:agShipMsgPopover, function(data) A.ajax(https://fls-na.amazon.com/1/action-impressions/1/OE/amazon-global/action/amazonglobalshipmsg:activatedpopovermarketplaceIdATVPDKIKX0DERrequestId1G3VKB3YJ7V6FBTKF2BZsession132-9628129-5071028, method: get ) ) window.agPopOverCallbackHandle true ) P.when('A').execute(function(A) if (typeof window.agMessageSeenCallbackHandle 'undefined') A.on.afterLoad(function() A.ajax(https://fls-na.amazon.com/1/action-impressions/1/OE/amazon-global/action/amazonglobalshipmsg:seenifdmessagemarketplaceIdATVPDKIKX0DERrequestId1G3VKB3YJ7V6FBTKF2BZsession132-9628129-5071028, method: get ) ) window.agMessageSeenCallbackHandle true ) P.when('A').execute(function(A) recordHelpAndNavigate function(navigateFn) navigateFn() A.ajax(https://fls-na.amazon.com/1/action-impressions/1/OE/amazon-global/action/amazonglobalshipmsg:viewedhelpmarketplaceIdATVPDKIKX0DERrequestId1G3VKB3YJ7V6FBTKF2BZsession132-9628129-5071028, method: get ) ) USD 41.72 Shipping Import Fees Deposit to France Shipping Fee Details Price 129.00 AmazonGlobal Shipping + 13.27 Estimated Import Fees Deposit + 28.45 Total 170.72 Learn more\",\n",
       "       'Free 2-Day Shipping',\n",
       "       'Free Shipping for Prime Members FREE Shipping on orders over USD 25or get FREE Two-Day Shipping with Amazon Prime',\n",
       "       'FREE Shipping on orders over USD 25.00', 'USD 104.04',\n",
       "       'USD 11.99', 'USD 14.95', 'USD 7.49 shipping',\n",
       "       'USD 10.74 shipping', 'USD 15.60', 'USD 34.99', 'USD 19.95',\n",
       "       'USD 21.24', 'USD 8.95 shipping', 'USD 18.85', 'USD 29.95',\n",
       "       'USD 38.00', 'USD 3.45 shipping', 'USD 9.95', 'USD 4.62 shipping',\n",
       "       \"P.when('A').execute(function(A) if (typeof window.agPopOverCallbackHandle 'undefined') A.on(a:popover:show:agShipMsgPopover, function(data) A.ajax(https://fls-na.amazon.com/1/action-impressions/1/OE/amazon-global/action/amazonglobalshipmsg:activatedpopovermarketplaceIdATVPDKIKX0DERrequestIdN57NW4167NB8V52TEQPJsession146-5957715-2370035, method: get ) ) window.agPopOverCallbackHandle true ) P.when('A').execute(function(A) if (typeof window.agMessageSeenCallbackHandle 'undefined') A.on.afterLoad(function() A.ajax(https://fls-na.amazon.com/1/action-impressions/1/OE/amazon-global/action/amazonglobalshipmsg:seenifdmessagemarketplaceIdATVPDKIKX0DERrequestIdN57NW4167NB8V52TEQPJsession146-5957715-2370035, method: get ) ) window.agMessageSeenCallbackHandle true ) P.when('A').execute(function(A) recordHelpAndNavigate function(navigateFn) navigateFn() A.ajax(https://fls-na.amazon.com/1/action-impressions/1/OE/amazon-global/action/amazonglobalshipmsg:viewedhelpmarketplaceIdATVPDKIKX0DERrequestIdN57NW4167NB8V52TEQPJsession146-5957715-2370035, method: get ) ) USD 68.74 Shipping Import Fees Deposit to United Kingdom Shipping Fee Details Price 124.84 AmazonGlobal Shipping + 36.48 Estimated Import Fees Deposit + 32.26 Total 193.58 Learn more\",\n",
       "       \"P.when('A').execute(function(A) if (typeof window.agPopOverCallbackHandle 'undefined') A.on(a:popover:show:agShipMsgPopover, function(data) A.ajax(https://fls-na.amazon.com/1/action-impressions/1/OE/amazon-global/action/amazonglobalshipmsg:activatedpopovermarketplaceIdATVPDKIKX0DERrequestIdC9RG16008F7Q1Q7YND57session141-5309376-4392102, method: get ) ) window.agPopOverCallbackHandle true ) P.when('A').execute(function(A) if (typeof window.agMessageSeenCallbackHandle 'undefined') A.on.afterLoad(function() A.ajax(https://fls-na.amazon.com/1/action-impressions/1/OE/amazon-global/action/amazonglobalshipmsg:seenifdmessagemarketplaceIdATVPDKIKX0DERrequestIdC9RG16008F7Q1Q7YND57session141-5309376-4392102, method: get ) ) window.agMessageSeenCallbackHandle true ) P.when('A').execute(function(A) recordHelpAndNavigate function(navigateFn) navigateFn() A.ajax(https://fls-na.amazon.com/1/action-impressions/1/OE/amazon-global/action/amazonglobalshipmsg:viewedhelpmarketplaceIdATVPDKIKX0DERrequestIdC9RG16008F7Q1Q7YND57session141-5309376-4392102, method: get ) ) USD 165.13 Shipping Import Fees Deposit to France Shipping Fee Details Price 575.99 AmazonGlobal Shipping + 17.86 Estimated Import Fees Deposit + 147.27 Total 741.12 Learn more\",\n",
       "       'USD 9.98',\n",
       "       \"P.when('A').execute(function(A) if (typeof window.agPopOverCallbackHandle 'undefined') A.on(a:popover:show:agShipMsgPopover, function(data) A.ajax(https://fls-na.amazon.com/1/action-impressions/1/OE/amazon-global/action/amazonglobalshipmsg:activatedpopovermarketplaceIdATVPDKIKX0DERrequestIdXTA05S2FFNV15P23DX8Dsession146-0987177-7533313, method: get ) ) window.agPopOverCallbackHandle true ) P.when('A').execute(function(A) if (typeof window.agMessageSeenCallbackHandle 'undefined') A.on.afterLoad(function() A.ajax(https://fls-na.amazon.com/1/action-impressions/1/OE/amazon-global/action/amazonglobalshipmsg:seenifdmessagemarketplaceIdATVPDKIKX0DERrequestIdXTA05S2FFNV15P23DX8Dsession146-0987177-7533313, method: get ) ) window.agMessageSeenCallbackHandle true ) P.when('A').execute(function(A) recordHelpAndNavigate function(navigateFn) navigateFn() A.ajax(https://fls-na.amazon.com/1/action-impressions/1/OE/amazon-global/action/amazonglobalshipmsg:viewedhelpmarketplaceIdATVPDKIKX0DERrequestIdXTA05S2FFNV15P23DX8Dsession146-0987177-7533313, method: get ) ) USD 212.16 Shipping Import Fees Deposit to United Kingdom Shipping Fee Details Price 198.00 AmazonGlobal Shipping + 136.12 Estimated Import Fees Deposit + 76.04 Total 410.16 Learn more\",\n",
       "       \"P.when('A').execute(function(A) if (typeof window.agPopOverCallbackHandle 'undefined') A.on(a:popover:show:agShipMsgPopover, function(data) A.ajax(https://fls-na.amazon.com/1/action-impressions/1/OE/amazon-global/action/amazonglobalshipmsg:activatedpopovermarketplaceIdATVPDKIKX0DERrequestIdY7MQ39DVYA6XZQBMJ3N8session147-4801805-4414062, method: get ) ) window.agPopOverCallbackHandle true ) P.when('A').execute(function(A) if (typeof window.agMessageSeenCallbackHandle 'undefined') A.on.afterLoad(function() A.ajax(https://fls-na.amazon.com/1/action-impressions/1/OE/amazon-global/action/amazonglobalshipmsg:seenifdmessagemarketplaceIdATVPDKIKX0DERrequestIdY7MQ39DVYA6XZQBMJ3N8session147-4801805-4414062, method: get ) ) window.agMessageSeenCallbackHandle true ) P.when('A').execute(function(A) recordHelpAndNavigate function(navigateFn) navigateFn() A.ajax(https://fls-na.amazon.com/1/action-impressions/1/OE/amazon-global/action/amazonglobalshipmsg:viewedhelpmarketplaceIdATVPDKIKX0DERrequestIdY7MQ39DVYA6XZQBMJ3N8session147-4801805-4414062, method: get ) ) USD 23.72 Shipping Import Fees Deposit to France Shipping Fee Details Price 69.99 AmazonGlobal Shipping + 8.10 Estimated Import Fees Deposit + 15.62 Total 93.71 Learn more\",\n",
       "       '8-10 days', 'USD 13.00', 'USD 4.50 shipping',\n",
       "       'FREE Shipping on orders over USD 25or get FREE Two-Day Shipping with Free Shipping for Prime Members',\n",
       "       \"P.when('A').execute(function(A) if (typeof window.agPopOverCallbackHandle 'undefined') A.on(a:popover:show:agShipMsgPopover, function(data) A.ajax(https://fls-na.amazon.com/1/action-impressions/1/OE/amazon-global/action/amazonglobalshipmsg:activatedpopovermarketplaceIdATVPDKIKX0DERrequestIdWERYGFPEAMQWW1P98D5Wsession144-7771250-4562317, method: get ) ) window.agPopOverCallbackHandle true ) P.when('A').execute(function(A) if (typeof window.agMessageSeenCallbackHandle 'undefined') A.on.afterLoad(function() A.ajax(https://fls-na.amazon.com/1/action-impressions/1/OE/amazon-global/action/amazonglobalshipmsg:seenifdmessagemarketplaceIdATVPDKIKX0DERrequestIdWERYGFPEAMQWW1P98D5Wsession144-7771250-4562317, method: get ) ) window.agMessageSeenCallbackHandle true ) P.when('A').execute(function(A) recordHelpAndNavigate function(navigateFn) navigateFn() A.ajax(https://fls-na.amazon.com/1/action-impressions/1/OE/amazon-global/action/amazonglobalshipmsg:viewedhelpmarketplaceIdATVPDKIKX0DERrequestIdWERYGFPEAMQWW1P98D5Wsession144-7771250-4562317, method: get ) ) USD 54.62 Shipping Import Fees Deposit to France Shipping Fee Details Price 98.00 AmazonGlobal Shipping + 29.18 Estimated Import Fees Deposit + 25.44 Total 152.62 Learn more\",\n",
       "       'USD 4.36',\n",
       "       'Free Shippingon orders 35 and upFree Shippingon orders 35 and up',\n",
       "       'CAD 6.00', '7-9 days', 'CAD 0.79', 'USD 13.16', 'CAD 9.69',\n",
       "       'USD 1.99', 'GBP 29.99', 'Free Shipping for Prime Members',\n",
       "       'USD 13.81 shipping'], dtype=object)"
      ]
     },
     "execution_count": 1070,
     "metadata": {},
     "output_type": "execute_result"
    }
   ],
   "source": [
    "data_train_non_trans_merge['prices.shipping'].unique()"
   ]
  },
  {
   "cell_type": "code",
   "execution_count": 1071,
   "metadata": {},
   "outputs": [],
   "source": [
    "data_train_non_trans_merge['prices.shipping'] = data_train_non_trans_merge['prices.shipping'].fillna(\"\")"
   ]
  },
  {
   "cell_type": "code",
   "execution_count": 1072,
   "metadata": {},
   "outputs": [],
   "source": [
    "data_train_non_trans_merge.loc[data_train_non_trans_merge['prices.shipping'].str.contains('Free'), 'shipping_flag'] = 'Free'\n",
    "data_train_non_trans_merge.loc[data_train_non_trans_merge['prices.shipping'].str.contains('FREE'), 'shipping_flag'] = 'Free'\n",
    "data_train_non_trans_merge.loc[data_train_non_trans_merge['prices.shipping'].str.contains('free'), 'shipping_flag'] = 'Free'\n",
    "data_train_non_trans_merge.loc[data_train_non_trans_merge['prices.shipping'].str.contains('USD'), 'shipping_flag'] = 'Paid'\n",
    "data_train_non_trans_merge.loc[data_train_non_trans_merge['prices.shipping'].str.contains('CAD'), 'shipping_flag'] = 'Paid'\n",
    "data_train_non_trans_merge.loc[data_train_non_trans_merge['prices.shipping'].str.contains('GBP'), 'shipping_flag'] = 'Paid'"
   ]
  },
  {
   "cell_type": "code",
   "execution_count": 1073,
   "metadata": {},
   "outputs": [],
   "source": [
    "data_train_non_trans_merge[\"shipping_flag\"].fillna(data_train_non_trans_merge[\"prices.shipping\"], inplace=True)"
   ]
  },
  {
   "cell_type": "code",
   "execution_count": 1074,
   "metadata": {},
   "outputs": [
    {
     "data": {
      "text/plain": [
       "array(['', 'Expedited', 'Value', 'Standard', 'Free', 'Freight', 'Paid',\n",
       "       'Shipping Charges Apply', '2-4 days',\n",
       "       'Same day if ordered before 4pm', '10-12 days', '4-6 days',\n",
       "       '3-5 days', 'Call', '6-8 days', '1-3 days', '8-10 days',\n",
       "       '7-9 days'], dtype=object)"
      ]
     },
     "execution_count": 1074,
     "metadata": {},
     "output_type": "execute_result"
    }
   ],
   "source": [
    "data_train_non_trans_merge[\"shipping_flag\"].unique()"
   ]
  },
  {
   "cell_type": "code",
   "execution_count": 1075,
   "metadata": {},
   "outputs": [
    {
     "data": {
      "text/html": [
       "<div>\n",
       "<style scoped>\n",
       "    .dataframe tbody tr th:only-of-type {\n",
       "        vertical-align: middle;\n",
       "    }\n",
       "\n",
       "    .dataframe tbody tr th {\n",
       "        vertical-align: top;\n",
       "    }\n",
       "\n",
       "    .dataframe thead th {\n",
       "        text-align: right;\n",
       "    }\n",
       "</style>\n",
       "<table border=\"1\" class=\"dataframe\">\n",
       "  <thead>\n",
       "    <tr style=\"text-align: right;\">\n",
       "      <th></th>\n",
       "      <th>id</th>\n",
       "      <th>prices.availability</th>\n",
       "      <th>prices.condition</th>\n",
       "      <th>prices.dateSeen</th>\n",
       "      <th>prices.isSale</th>\n",
       "      <th>prices.merchant</th>\n",
       "      <th>prices.shipping</th>\n",
       "      <th>sourceURLs</th>\n",
       "      <th>brand</th>\n",
       "      <th>categories</th>\n",
       "      <th>...</th>\n",
       "      <th>weight_metric</th>\n",
       "      <th>weight_norm</th>\n",
       "      <th>0</th>\n",
       "      <th>1</th>\n",
       "      <th>2</th>\n",
       "      <th>3</th>\n",
       "      <th>4</th>\n",
       "      <th>5</th>\n",
       "      <th>6</th>\n",
       "      <th>shipping_flag</th>\n",
       "    </tr>\n",
       "  </thead>\n",
       "  <tbody>\n",
       "    <tr>\n",
       "      <th>0</th>\n",
       "      <td>AVphzgbJLJeJML43fA0o</td>\n",
       "      <td>Yes</td>\n",
       "      <td>New</td>\n",
       "      <td>2017-03-30T06:00:00Z,2017-03-10T22:00:00Z,2017...</td>\n",
       "      <td>False</td>\n",
       "      <td>Bestbuy.com</td>\n",
       "      <td></td>\n",
       "      <td>https://www.amazon.com/Sanus-VLF410B1-10-Inch-...</td>\n",
       "      <td>Sanus</td>\n",
       "      <td>Audio &amp; Video Accessories,TV Mounts,TV Accesso...</td>\n",
       "      <td>...</td>\n",
       "      <td>pounds</td>\n",
       "      <td>32.8</td>\n",
       "      <td>Audio &amp; Video Accessories</td>\n",
       "      <td>TV Mounts</td>\n",
       "      <td>TV Accessories &amp; Parts</td>\n",
       "      <td>Electronics</td>\n",
       "      <td>A/V Presentation</td>\n",
       "      <td>Accessories &amp; Supplies</td>\n",
       "      <td>TV Ceiling &amp; Wall Mounts</td>\n",
       "      <td></td>\n",
       "    </tr>\n",
       "  </tbody>\n",
       "</table>\n",
       "<p>1 rows × 32 columns</p>\n",
       "</div>"
      ],
      "text/plain": [
       "                     id prices.availability prices.condition  \\\n",
       "0  AVphzgbJLJeJML43fA0o                 Yes              New   \n",
       "\n",
       "                                     prices.dateSeen  prices.isSale  \\\n",
       "0  2017-03-30T06:00:00Z,2017-03-10T22:00:00Z,2017...          False   \n",
       "\n",
       "  prices.merchant prices.shipping  \\\n",
       "0     Bestbuy.com                   \n",
       "\n",
       "                                          sourceURLs  brand  \\\n",
       "0  https://www.amazon.com/Sanus-VLF410B1-10-Inch-...  Sanus   \n",
       "\n",
       "                                          categories  ... weight_metric  \\\n",
       "0  Audio & Video Accessories,TV Mounts,TV Accesso...  ...        pounds   \n",
       "\n",
       "  weight_norm                          0          1                       2  \\\n",
       "0        32.8  Audio & Video Accessories  TV Mounts  TV Accessories & Parts   \n",
       "\n",
       "             3                 4                       5  \\\n",
       "0  Electronics  A/V Presentation  Accessories & Supplies   \n",
       "\n",
       "                          6  shipping_flag  \n",
       "0  TV Ceiling & Wall Mounts                 \n",
       "\n",
       "[1 rows x 32 columns]"
      ]
     },
     "execution_count": 1075,
     "metadata": {},
     "output_type": "execute_result"
    }
   ],
   "source": [
    "data_train_non_trans_merge.head(1)"
   ]
  },
  {
   "cell_type": "markdown",
   "metadata": {},
   "source": [
    "### Dataset enrichment"
   ]
  },
  {
   "cell_type": "code",
   "execution_count": 1076,
   "metadata": {},
   "outputs": [],
   "source": [
    "#Since we have date when product was introduced and updated in the system, let's create 2 variables, which could help us to predict the price:\n",
    "# 1) N days since the product was added\n",
    "# 2) N days since the product was updated"
   ]
  },
  {
   "cell_type": "code",
   "execution_count": 1077,
   "metadata": {},
   "outputs": [],
   "source": [
    "data_train_non_trans_merge['dateAdded_t'] = pd.to_datetime(data_train_non_trans_merge['dateAdded'],format='%Y-%m-%dT%H:%M:%SZ')"
   ]
  },
  {
   "cell_type": "code",
   "execution_count": 1078,
   "metadata": {},
   "outputs": [
    {
     "data": {
      "text/plain": [
       "0       2015-04-13 12:00:51\n",
       "1       2015-05-18 14:14:56\n",
       "2       2015-05-18 14:14:56\n",
       "3       2015-05-18 14:14:56\n",
       "4       2015-05-18 14:14:56\n",
       "                ...        \n",
       "14587   2015-09-11 02:03:11\n",
       "14588   2015-09-11 02:03:11\n",
       "14589   2015-09-11 02:03:11\n",
       "14590   2015-09-11 02:03:11\n",
       "14591   2015-09-11 02:03:11\n",
       "Name: dateAdded_t, Length: 14592, dtype: datetime64[ns]"
      ]
     },
     "execution_count": 1078,
     "metadata": {},
     "output_type": "execute_result"
    }
   ],
   "source": [
    "data_train_non_trans_merge['dateAdded_t']"
   ]
  },
  {
   "cell_type": "code",
   "execution_count": 1079,
   "metadata": {},
   "outputs": [],
   "source": [
    "data_train_non_trans_merge['n_days_since_added'] = (datetime.datetime.utcnow() - data_train_non_trans_merge['dateAdded_t']).dt.days"
   ]
  },
  {
   "cell_type": "code",
   "execution_count": 1080,
   "metadata": {},
   "outputs": [],
   "source": [
    "data_train_non_trans_merge['dateUpdated_t'] = pd.to_datetime(data_train_non_trans_merge['dateUpdated'],format='%Y-%m-%dT%H:%M:%SZ')\n",
    "data_train_non_trans_merge['n_days_since_updated'] = (datetime.datetime.utcnow() - data_train_non_trans_merge['dateUpdated_t']).dt.days"
   ]
  },
  {
   "cell_type": "code",
   "execution_count": 1081,
   "metadata": {},
   "outputs": [],
   "source": [
    "data_train_non_trans_merge.rename(columns={ data_train_non_trans_merge.columns[1]: \"prices_availability\"}, inplace = True)\n",
    "data_train_non_trans_merge.rename(columns={ data_train_non_trans_merge.columns[2]: \"prices_condition\"}, inplace = True)\n",
    "data_train_non_trans_merge.rename(columns={ data_train_non_trans_merge.columns[3]: \"prices_dateSeen\"}, inplace = True)\n",
    "data_train_non_trans_merge.rename(columns={ data_train_non_trans_merge.columns[4]: \"prices_isSale\"}, inplace = True)\n",
    "data_train_non_trans_merge.rename(columns={ data_train_non_trans_merge.columns[5]: \"prices_merchant\"}, inplace = True)\n",
    "data_train_non_trans_merge.rename(columns={ data_train_non_trans_merge.columns[6]: \"prices_shipping\"}, inplace = True)\n",
    "data_train_non_trans_merge.rename(columns={ data_train_non_trans_merge.columns[17]: \"prices_currency \"}, inplace = True)\n",
    "data_train_non_trans_merge.rename(columns={ data_train_non_trans_merge.columns[18]: \"prices_amountMin\"}, inplace = True)\n",
    "data_train_non_trans_merge.rename(columns={ data_train_non_trans_merge.columns[19]: \"prices_amountMax\"}, inplace = True)\n",
    "data_train_non_trans_merge.rename(columns={ data_train_non_trans_merge.columns[24]: \"category_0\"}, inplace = True)\n",
    "data_train_non_trans_merge.rename(columns={ data_train_non_trans_merge.columns[25]: \"category_1\"}, inplace = True)\n",
    "data_train_non_trans_merge.rename(columns={ data_train_non_trans_merge.columns[26]: \"category_2\"}, inplace = True)\n",
    "data_train_non_trans_merge.rename(columns={ data_train_non_trans_merge.columns[27]: \"category_3\"}, inplace = True)\n",
    "data_train_non_trans_merge.rename(columns={ data_train_non_trans_merge.columns[28]: \"category_4\"}, inplace = True)\n",
    "data_train_non_trans_merge.rename(columns={ data_train_non_trans_merge.columns[29]: \"category_5\"}, inplace = True)\n",
    "data_train_non_trans_merge.rename(columns={ data_train_non_trans_merge.columns[30]: \"category_6\"}, inplace = True)"
   ]
  },
  {
   "cell_type": "code",
   "execution_count": 1082,
   "metadata": {},
   "outputs": [],
   "source": [
    "#Let's add some competition context data into\n",
    "# -> Frist, we are going to query: How many different merchants/retailers are selling the same product? (prices_merchant_y)\n",
    "# -> Second, we are go query: How many different brands are selling products from the same category (brand_y)\n",
    "# The main idea is the following: If product is sold by several merchants and not only single one, then it can be reflected on the price. Same logic about for brand"
   ]
  },
  {
   "cell_type": "code",
   "execution_count": 1083,
   "metadata": {},
   "outputs": [],
   "source": [
    "id_merch=data_train_non_trans_merge.groupby('id')['prices_merchant'].nunique().to_frame()"
   ]
  },
  {
   "cell_type": "code",
   "execution_count": 1084,
   "metadata": {},
   "outputs": [
    {
     "data": {
      "text/html": [
       "<div>\n",
       "<style scoped>\n",
       "    .dataframe tbody tr th:only-of-type {\n",
       "        vertical-align: middle;\n",
       "    }\n",
       "\n",
       "    .dataframe tbody tr th {\n",
       "        vertical-align: top;\n",
       "    }\n",
       "\n",
       "    .dataframe thead th {\n",
       "        text-align: right;\n",
       "    }\n",
       "</style>\n",
       "<table border=\"1\" class=\"dataframe\">\n",
       "  <thead>\n",
       "    <tr style=\"text-align: right;\">\n",
       "      <th></th>\n",
       "      <th>prices_merchant</th>\n",
       "    </tr>\n",
       "    <tr>\n",
       "      <th>id</th>\n",
       "      <th></th>\n",
       "    </tr>\n",
       "  </thead>\n",
       "  <tbody>\n",
       "    <tr>\n",
       "      <th>AV-pPOFauC1rwyj_ghHT</th>\n",
       "      <td>2</td>\n",
       "    </tr>\n",
       "    <tr>\n",
       "      <th>AV0-JbjHvKc47QAVgW-C</th>\n",
       "      <td>6</td>\n",
       "    </tr>\n",
       "    <tr>\n",
       "      <th>AV00ozTAvKc47QAVgAJM</th>\n",
       "      <td>5</td>\n",
       "    </tr>\n",
       "    <tr>\n",
       "      <th>AV01QNi7vKc47QAVgEEV</th>\n",
       "      <td>7</td>\n",
       "    </tr>\n",
       "    <tr>\n",
       "      <th>AV01UxMTglJLPUi8Hmm4</th>\n",
       "      <td>7</td>\n",
       "    </tr>\n",
       "    <tr>\n",
       "      <th>...</th>\n",
       "      <td>...</td>\n",
       "    </tr>\n",
       "    <tr>\n",
       "      <th>AWOpLyzrHh53nbDRKmTD</th>\n",
       "      <td>4</td>\n",
       "    </tr>\n",
       "    <tr>\n",
       "      <th>AWOpMDbqYSSHbkXw06lc</th>\n",
       "      <td>1</td>\n",
       "    </tr>\n",
       "    <tr>\n",
       "      <th>AWOpOCd2YSSHbkXw07ei</th>\n",
       "      <td>1</td>\n",
       "    </tr>\n",
       "    <tr>\n",
       "      <th>AWOpWM18YSSHbkXw09Yj</th>\n",
       "      <td>1</td>\n",
       "    </tr>\n",
       "    <tr>\n",
       "      <th>AWOpqvXyIwln0LfXnC65</th>\n",
       "      <td>3</td>\n",
       "    </tr>\n",
       "  </tbody>\n",
       "</table>\n",
       "<p>1245 rows × 1 columns</p>\n",
       "</div>"
      ],
      "text/plain": [
       "                      prices_merchant\n",
       "id                                   \n",
       "AV-pPOFauC1rwyj_ghHT                2\n",
       "AV0-JbjHvKc47QAVgW-C                6\n",
       "AV00ozTAvKc47QAVgAJM                5\n",
       "AV01QNi7vKc47QAVgEEV                7\n",
       "AV01UxMTglJLPUi8Hmm4                7\n",
       "...                               ...\n",
       "AWOpLyzrHh53nbDRKmTD                4\n",
       "AWOpMDbqYSSHbkXw06lc                1\n",
       "AWOpOCd2YSSHbkXw07ei                1\n",
       "AWOpWM18YSSHbkXw09Yj                1\n",
       "AWOpqvXyIwln0LfXnC65                3\n",
       "\n",
       "[1245 rows x 1 columns]"
      ]
     },
     "execution_count": 1084,
     "metadata": {},
     "output_type": "execute_result"
    }
   ],
   "source": [
    "id_merch"
   ]
  },
  {
   "cell_type": "code",
   "execution_count": 1085,
   "metadata": {},
   "outputs": [],
   "source": [
    "data_train_non_trans_merge = pd.merge(data_train_non_trans_merge, id_merch, on='id')"
   ]
  },
  {
   "cell_type": "code",
   "execution_count": 1086,
   "metadata": {},
   "outputs": [],
   "source": [
    "id_brand=data_train_non_trans_merge.groupby('id')['brand'].nunique().to_frame()"
   ]
  },
  {
   "cell_type": "code",
   "execution_count": 1087,
   "metadata": {},
   "outputs": [],
   "source": [
    "brand_category = data_train_non_trans_merge.groupby('category_2')['brand'].nunique()"
   ]
  },
  {
   "cell_type": "code",
   "execution_count": 1088,
   "metadata": {},
   "outputs": [],
   "source": [
    "data_train_non_trans_merge = pd.merge(data_train_non_trans_merge, brand_category, on='category_2')"
   ]
  },
  {
   "cell_type": "code",
   "execution_count": 1089,
   "metadata": {},
   "outputs": [
    {
     "data": {
      "text/html": [
       "<div>\n",
       "<style scoped>\n",
       "    .dataframe tbody tr th:only-of-type {\n",
       "        vertical-align: middle;\n",
       "    }\n",
       "\n",
       "    .dataframe tbody tr th {\n",
       "        vertical-align: top;\n",
       "    }\n",
       "\n",
       "    .dataframe thead th {\n",
       "        text-align: right;\n",
       "    }\n",
       "</style>\n",
       "<table border=\"1\" class=\"dataframe\">\n",
       "  <thead>\n",
       "    <tr style=\"text-align: right;\">\n",
       "      <th></th>\n",
       "      <th>id</th>\n",
       "      <th>prices_availability</th>\n",
       "      <th>prices_condition</th>\n",
       "      <th>prices_dateSeen</th>\n",
       "      <th>prices_isSale</th>\n",
       "      <th>prices_merchant_x</th>\n",
       "      <th>prices_shipping</th>\n",
       "      <th>sourceURLs</th>\n",
       "      <th>brand_x</th>\n",
       "      <th>categories</th>\n",
       "      <th>...</th>\n",
       "      <th>category_4</th>\n",
       "      <th>category_5</th>\n",
       "      <th>category_6</th>\n",
       "      <th>shipping_flag</th>\n",
       "      <th>dateAdded_t</th>\n",
       "      <th>n_days_since_added</th>\n",
       "      <th>dateUpdated_t</th>\n",
       "      <th>n_days_since_updated</th>\n",
       "      <th>prices_merchant_y</th>\n",
       "      <th>brand_y</th>\n",
       "    </tr>\n",
       "  </thead>\n",
       "  <tbody>\n",
       "    <tr>\n",
       "      <th>0</th>\n",
       "      <td>AVphzgbJLJeJML43fA0o</td>\n",
       "      <td>Yes</td>\n",
       "      <td>New</td>\n",
       "      <td>2017-03-30T06:00:00Z,2017-03-10T22:00:00Z,2017...</td>\n",
       "      <td>False</td>\n",
       "      <td>Bestbuy.com</td>\n",
       "      <td></td>\n",
       "      <td>https://www.amazon.com/Sanus-VLF410B1-10-Inch-...</td>\n",
       "      <td>Sanus</td>\n",
       "      <td>Audio &amp; Video Accessories,TV Mounts,TV Accesso...</td>\n",
       "      <td>...</td>\n",
       "      <td>A/V Presentation</td>\n",
       "      <td>Accessories &amp; Supplies</td>\n",
       "      <td>TV Ceiling &amp; Wall Mounts</td>\n",
       "      <td></td>\n",
       "      <td>2015-04-13 12:00:51</td>\n",
       "      <td>2317</td>\n",
       "      <td>2018-05-12 18:59:48</td>\n",
       "      <td>1191</td>\n",
       "      <td>1</td>\n",
       "      <td>2</td>\n",
       "    </tr>\n",
       "  </tbody>\n",
       "</table>\n",
       "<p>1 rows × 38 columns</p>\n",
       "</div>"
      ],
      "text/plain": [
       "                     id prices_availability prices_condition  \\\n",
       "0  AVphzgbJLJeJML43fA0o                 Yes              New   \n",
       "\n",
       "                                     prices_dateSeen  prices_isSale  \\\n",
       "0  2017-03-30T06:00:00Z,2017-03-10T22:00:00Z,2017...          False   \n",
       "\n",
       "  prices_merchant_x prices_shipping  \\\n",
       "0       Bestbuy.com                   \n",
       "\n",
       "                                          sourceURLs brand_x  \\\n",
       "0  https://www.amazon.com/Sanus-VLF410B1-10-Inch-...   Sanus   \n",
       "\n",
       "                                          categories  ...        category_4  \\\n",
       "0  Audio & Video Accessories,TV Mounts,TV Accesso...  ...  A/V Presentation   \n",
       "\n",
       "               category_5                category_6 shipping_flag  \\\n",
       "0  Accessories & Supplies  TV Ceiling & Wall Mounts                 \n",
       "\n",
       "          dateAdded_t n_days_since_added       dateUpdated_t  \\\n",
       "0 2015-04-13 12:00:51               2317 2018-05-12 18:59:48   \n",
       "\n",
       "  n_days_since_updated  prices_merchant_y  brand_y  \n",
       "0                 1191                  1        2  \n",
       "\n",
       "[1 rows x 38 columns]"
      ]
     },
     "execution_count": 1089,
     "metadata": {},
     "output_type": "execute_result"
    }
   ],
   "source": [
    "data_train_non_trans_merge.head(1)"
   ]
  },
  {
   "cell_type": "code",
   "execution_count": 1090,
   "metadata": {},
   "outputs": [],
   "source": [
    "# Let's do some data cleansing on prices_availability variable. As we can see, there are different values that represents the same"
   ]
  },
  {
   "cell_type": "code",
   "execution_count": 1091,
   "metadata": {},
   "outputs": [
    {
     "data": {
      "text/plain": [
       "array(['Yes', 'TRUE', nan, 'In Stock', 'yes', 'undefined', 'Out Of Stock',\n",
       "       'More on the Way', 'FALSE', 'Special Order', 'sold',\n",
       "       'Limited Stock', '32 available', '7 available', 'No',\n",
       "       'Discontinued', 'Retired', 'More Coming Soon'], dtype=object)"
      ]
     },
     "execution_count": 1091,
     "metadata": {},
     "output_type": "execute_result"
    }
   ],
   "source": [
    "data_train_non_trans_merge.prices_availability.unique()"
   ]
  },
  {
   "cell_type": "code",
   "execution_count": 1092,
   "metadata": {},
   "outputs": [],
   "source": [
    "data_train_non_trans_merge.loc[(data_train_non_trans_merge.prices_availability == 'Yes'),'prices_availability']='In Stock'\n",
    "data_train_non_trans_merge.loc[(data_train_non_trans_merge.prices_availability == 'yes'),'prices_availability']='In Stock'\n",
    "data_train_non_trans_merge.loc[(data_train_non_trans_merge.prices_availability == 'TRUE'),'prices_availability']='In Stock'\n",
    "data_train_non_trans_merge.loc[(data_train_non_trans_merge.prices_availability == '7 available'),'prices_availability']='In Stock'\n",
    "data_train_non_trans_merge.loc[(data_train_non_trans_merge.prices_availability == '32 available'),'prices_availability']='In Stock'\n",
    "data_train_non_trans_merge.loc[(data_train_non_trans_merge.prices_availability == 'Limited Stock'),'prices_availability']='In Stock'\n",
    "data_train_non_trans_merge.loc[(data_train_non_trans_merge.prices_availability == 'More on the Way'),'prices_availability']='Out Of Stock'\n",
    "data_train_non_trans_merge.loc[(data_train_non_trans_merge.prices_availability == 'sold'),'prices_availability']='Out Of Stock'\n",
    "data_train_non_trans_merge.loc[(data_train_non_trans_merge.prices_availability == 'Discontinued'),'prices_availability']='Out Of Stock'\n",
    "data_train_non_trans_merge.loc[(data_train_non_trans_merge.prices_availability == 'No'),'prices_availability']='Out Of Stock'\n",
    "data_train_non_trans_merge.loc[(data_train_non_trans_merge.prices_availability == 'FALSE'),'prices_availability']='Out Of Stock'\n",
    "data_train_non_trans_merge.loc[(data_train_non_trans_merge.prices_availability == 'More Coming Soon'),'prices_availability']='Out Of Stock'\n",
    "data_train_non_trans_merge.loc[(data_train_non_trans_merge.prices_availability == 'Retired'),'prices_availability']='Out Of Stock'"
   ]
  },
  {
   "cell_type": "code",
   "execution_count": 1093,
   "metadata": {},
   "outputs": [
    {
     "data": {
      "text/plain": [
       "array(['In Stock', nan, 'undefined', 'Out Of Stock', 'Special Order'],\n",
       "      dtype=object)"
      ]
     },
     "execution_count": 1093,
     "metadata": {},
     "output_type": "execute_result"
    }
   ],
   "source": [
    "data_train_non_trans_merge['prices_availability'].unique()"
   ]
  },
  {
   "cell_type": "code",
   "execution_count": 1094,
   "metadata": {},
   "outputs": [
    {
     "data": {
      "text/html": [
       "<div>\n",
       "<style scoped>\n",
       "    .dataframe tbody tr th:only-of-type {\n",
       "        vertical-align: middle;\n",
       "    }\n",
       "\n",
       "    .dataframe tbody tr th {\n",
       "        vertical-align: top;\n",
       "    }\n",
       "\n",
       "    .dataframe thead th {\n",
       "        text-align: right;\n",
       "    }\n",
       "</style>\n",
       "<table border=\"1\" class=\"dataframe\">\n",
       "  <thead>\n",
       "    <tr style=\"text-align: right;\">\n",
       "      <th></th>\n",
       "      <th>id</th>\n",
       "      <th>prices_availability</th>\n",
       "      <th>prices_condition</th>\n",
       "      <th>prices_dateSeen</th>\n",
       "      <th>prices_isSale</th>\n",
       "      <th>prices_merchant_x</th>\n",
       "      <th>prices_shipping</th>\n",
       "      <th>sourceURLs</th>\n",
       "      <th>brand_x</th>\n",
       "      <th>categories</th>\n",
       "      <th>...</th>\n",
       "      <th>category_4</th>\n",
       "      <th>category_5</th>\n",
       "      <th>category_6</th>\n",
       "      <th>shipping_flag</th>\n",
       "      <th>dateAdded_t</th>\n",
       "      <th>n_days_since_added</th>\n",
       "      <th>dateUpdated_t</th>\n",
       "      <th>n_days_since_updated</th>\n",
       "      <th>prices_merchant_y</th>\n",
       "      <th>brand_y</th>\n",
       "    </tr>\n",
       "  </thead>\n",
       "  <tbody>\n",
       "    <tr>\n",
       "      <th>0</th>\n",
       "      <td>AVphzgbJLJeJML43fA0o</td>\n",
       "      <td>In Stock</td>\n",
       "      <td>New</td>\n",
       "      <td>2017-03-30T06:00:00Z,2017-03-10T22:00:00Z,2017...</td>\n",
       "      <td>False</td>\n",
       "      <td>Bestbuy.com</td>\n",
       "      <td></td>\n",
       "      <td>https://www.amazon.com/Sanus-VLF410B1-10-Inch-...</td>\n",
       "      <td>Sanus</td>\n",
       "      <td>Audio &amp; Video Accessories,TV Mounts,TV Accesso...</td>\n",
       "      <td>...</td>\n",
       "      <td>A/V Presentation</td>\n",
       "      <td>Accessories &amp; Supplies</td>\n",
       "      <td>TV Ceiling &amp; Wall Mounts</td>\n",
       "      <td></td>\n",
       "      <td>2015-04-13 12:00:51</td>\n",
       "      <td>2317</td>\n",
       "      <td>2018-05-12 18:59:48</td>\n",
       "      <td>1191</td>\n",
       "      <td>1</td>\n",
       "      <td>2</td>\n",
       "    </tr>\n",
       "    <tr>\n",
       "      <th>1</th>\n",
       "      <td>AWLI-DTQYSSHbkXwzTxw</td>\n",
       "      <td>In Stock</td>\n",
       "      <td>new</td>\n",
       "      <td>2018-05-02T14:00:00Z</td>\n",
       "      <td>False</td>\n",
       "      <td>Bestbuy.com</td>\n",
       "      <td></td>\n",
       "      <td>https://www.amazon.com/Insignia-47-Full-Motion...</td>\n",
       "      <td>Insignia</td>\n",
       "      <td>Audio &amp; Video Accessories,TV Mounts,TV Accesso...</td>\n",
       "      <td>...</td>\n",
       "      <td>Mounts &amp; Furniture</td>\n",
       "      <td>Electronics</td>\n",
       "      <td>Accessories &amp; Supplies,TV &amp; Home Theater,TV Ce...</td>\n",
       "      <td></td>\n",
       "      <td>2018-04-15 10:02:33</td>\n",
       "      <td>1219</td>\n",
       "      <td>2018-05-12 19:03:27</td>\n",
       "      <td>1191</td>\n",
       "      <td>1</td>\n",
       "      <td>2</td>\n",
       "    </tr>\n",
       "    <tr>\n",
       "      <th>2</th>\n",
       "      <td>AVpffBUvilAPnD_xcj8r</td>\n",
       "      <td>NaN</td>\n",
       "      <td>NaN</td>\n",
       "      <td>2018-04-16T20:00:00Z,2018-04-19T16:00:00Z,2018...</td>\n",
       "      <td>True</td>\n",
       "      <td>superior sales</td>\n",
       "      <td>FREE Shipping</td>\n",
       "      <td>http://www.amazon.com/Sanus-Visionmount-All-We...</td>\n",
       "      <td>Sanus</td>\n",
       "      <td>Audio &amp; Video Accessories,TV Mounts,TV Accesso...</td>\n",
       "      <td>...</td>\n",
       "      <td>Mounts &amp; Furniture</td>\n",
       "      <td>Electronics</td>\n",
       "      <td>Accessories &amp; Supplies,TV &amp; Home Theater,TV Ce...</td>\n",
       "      <td>Free</td>\n",
       "      <td>2015-10-30 23:12:22</td>\n",
       "      <td>2116</td>\n",
       "      <td>2018-06-13 19:38:47</td>\n",
       "      <td>1159</td>\n",
       "      <td>2</td>\n",
       "      <td>2</td>\n",
       "    </tr>\n",
       "  </tbody>\n",
       "</table>\n",
       "<p>3 rows × 38 columns</p>\n",
       "</div>"
      ],
      "text/plain": [
       "                     id prices_availability prices_condition  \\\n",
       "0  AVphzgbJLJeJML43fA0o            In Stock              New   \n",
       "1  AWLI-DTQYSSHbkXwzTxw            In Stock              new   \n",
       "2  AVpffBUvilAPnD_xcj8r                 NaN              NaN   \n",
       "\n",
       "                                     prices_dateSeen  prices_isSale  \\\n",
       "0  2017-03-30T06:00:00Z,2017-03-10T22:00:00Z,2017...          False   \n",
       "1                               2018-05-02T14:00:00Z          False   \n",
       "2  2018-04-16T20:00:00Z,2018-04-19T16:00:00Z,2018...           True   \n",
       "\n",
       "  prices_merchant_x prices_shipping  \\\n",
       "0       Bestbuy.com                   \n",
       "1       Bestbuy.com                   \n",
       "2    superior sales   FREE Shipping   \n",
       "\n",
       "                                          sourceURLs   brand_x  \\\n",
       "0  https://www.amazon.com/Sanus-VLF410B1-10-Inch-...     Sanus   \n",
       "1  https://www.amazon.com/Insignia-47-Full-Motion...  Insignia   \n",
       "2  http://www.amazon.com/Sanus-Visionmount-All-We...     Sanus   \n",
       "\n",
       "                                          categories  ...  \\\n",
       "0  Audio & Video Accessories,TV Mounts,TV Accesso...  ...   \n",
       "1  Audio & Video Accessories,TV Mounts,TV Accesso...  ...   \n",
       "2  Audio & Video Accessories,TV Mounts,TV Accesso...  ...   \n",
       "\n",
       "            category_4              category_5  \\\n",
       "0     A/V Presentation  Accessories & Supplies   \n",
       "1   Mounts & Furniture             Electronics   \n",
       "2   Mounts & Furniture             Electronics   \n",
       "\n",
       "                                          category_6 shipping_flag  \\\n",
       "0                           TV Ceiling & Wall Mounts                 \n",
       "1  Accessories & Supplies,TV & Home Theater,TV Ce...                 \n",
       "2  Accessories & Supplies,TV & Home Theater,TV Ce...          Free   \n",
       "\n",
       "          dateAdded_t n_days_since_added       dateUpdated_t  \\\n",
       "0 2015-04-13 12:00:51               2317 2018-05-12 18:59:48   \n",
       "1 2018-04-15 10:02:33               1219 2018-05-12 19:03:27   \n",
       "2 2015-10-30 23:12:22               2116 2018-06-13 19:38:47   \n",
       "\n",
       "  n_days_since_updated  prices_merchant_y  brand_y  \n",
       "0                 1191                  1        2  \n",
       "1                 1191                  1        2  \n",
       "2                 1159                  2        2  \n",
       "\n",
       "[3 rows x 38 columns]"
      ]
     },
     "execution_count": 1094,
     "metadata": {},
     "output_type": "execute_result"
    }
   ],
   "source": [
    "data_train_non_trans_merge.head(3)"
   ]
  },
  {
   "cell_type": "code",
   "execution_count": 1095,
   "metadata": {},
   "outputs": [],
   "source": [
    "data_train_non_trans_merge.at[13801,'prices_condition']='refurbished'"
   ]
  },
  {
   "cell_type": "code",
   "execution_count": 1096,
   "metadata": {},
   "outputs": [],
   "source": [
    "# Now, let us remove the duplicated records"
   ]
  },
  {
   "cell_type": "code",
   "execution_count": 1097,
   "metadata": {},
   "outputs": [],
   "source": [
    "duplicated = data_train_non_trans_merge.duplicated().to_frame()"
   ]
  },
  {
   "cell_type": "code",
   "execution_count": 1098,
   "metadata": {},
   "outputs": [],
   "source": [
    "data_train_non_trans_merge_dup = pd.merge(data_train_non_trans_merge, duplicated, left_index=True, right_index=True)"
   ]
  },
  {
   "cell_type": "code",
   "execution_count": 1099,
   "metadata": {},
   "outputs": [],
   "source": [
    "data_train_non_trans_merge_dup.rename(columns={ data_train_non_trans_merge_dup.columns[33]: \"Flag_duplicated\"}, inplace = True)"
   ]
  },
  {
   "cell_type": "markdown",
   "metadata": {},
   "source": [
    "### Outliers"
   ]
  },
  {
   "cell_type": "code",
   "execution_count": 1100,
   "metadata": {},
   "outputs": [],
   "source": [
    "#As we can see by the box plot, there are some possible outliers in price"
   ]
  },
  {
   "cell_type": "code",
   "execution_count": 1101,
   "metadata": {},
   "outputs": [
    {
     "data": {
      "text/plain": [
       "<AxesSubplot:>"
      ]
     },
     "execution_count": 1101,
     "metadata": {},
     "output_type": "execute_result"
    },
    {
     "data": {
      "image/png": "[encoded data removed]",
      "text/plain": [
       "<Figure size 432x288 with 1 Axes>"
      ]
     },
     "metadata": {
      "needs_background": "light"
     },
     "output_type": "display_data"
    }
   ],
   "source": [
    "data_train_non_trans_merge.boxplot(['price_USD'])"
   ]
  },
  {
   "cell_type": "code",
   "execution_count": 1102,
   "metadata": {},
   "outputs": [
    {
     "data": {
      "text/html": [
       "<div>\n",
       "<style scoped>\n",
       "    .dataframe tbody tr th:only-of-type {\n",
       "        vertical-align: middle;\n",
       "    }\n",
       "\n",
       "    .dataframe tbody tr th {\n",
       "        vertical-align: top;\n",
       "    }\n",
       "\n",
       "    .dataframe thead th {\n",
       "        text-align: right;\n",
       "    }\n",
       "</style>\n",
       "<table border=\"1\" class=\"dataframe\">\n",
       "  <thead>\n",
       "    <tr style=\"text-align: right;\">\n",
       "      <th></th>\n",
       "      <th>id</th>\n",
       "      <th>price_USD</th>\n",
       "    </tr>\n",
       "  </thead>\n",
       "  <tbody>\n",
       "    <tr>\n",
       "      <th>458</th>\n",
       "      <td>AVph8rYRilAPnD_x_GYE</td>\n",
       "      <td>26871.00</td>\n",
       "    </tr>\n",
       "    <tr>\n",
       "      <th>14081</th>\n",
       "      <td>AV2ZqC3JglJLPUi8QkKo</td>\n",
       "      <td>19999.99</td>\n",
       "    </tr>\n",
       "    <tr>\n",
       "      <th>14079</th>\n",
       "      <td>AV2ZqC3JglJLPUi8QkKo</td>\n",
       "      <td>19999.99</td>\n",
       "    </tr>\n",
       "    <tr>\n",
       "      <th>14077</th>\n",
       "      <td>AV2ZqC3JglJLPUi8QkKo</td>\n",
       "      <td>19997.99</td>\n",
       "    </tr>\n",
       "    <tr>\n",
       "      <th>14082</th>\n",
       "      <td>AV2ZqC3JglJLPUi8QkKo</td>\n",
       "      <td>19997.99</td>\n",
       "    </tr>\n",
       "    <tr>\n",
       "      <th>...</th>\n",
       "      <td>...</td>\n",
       "      <td>...</td>\n",
       "    </tr>\n",
       "    <tr>\n",
       "      <th>8718</th>\n",
       "      <td>AVphOxQQ1cnluZ0-_-Nn</td>\n",
       "      <td>1.00</td>\n",
       "    </tr>\n",
       "    <tr>\n",
       "      <th>2547</th>\n",
       "      <td>AVpf-2hGilAPnD_xlfDv</td>\n",
       "      <td>1.00</td>\n",
       "    </tr>\n",
       "    <tr>\n",
       "      <th>8754</th>\n",
       "      <td>AVqVGaGiU2_QcyX9Ozcm</td>\n",
       "      <td>1.00</td>\n",
       "    </tr>\n",
       "    <tr>\n",
       "      <th>2384</th>\n",
       "      <td>AVqkI8oeU2_QcyX9O04K</td>\n",
       "      <td>1.00</td>\n",
       "    </tr>\n",
       "    <tr>\n",
       "      <th>2451</th>\n",
       "      <td>AVqVGaYQQMlgsOJE6eVH</td>\n",
       "      <td>1.00</td>\n",
       "    </tr>\n",
       "  </tbody>\n",
       "</table>\n",
       "<p>14592 rows × 2 columns</p>\n",
       "</div>"
      ],
      "text/plain": [
       "                         id  price_USD\n",
       "458    AVph8rYRilAPnD_x_GYE   26871.00\n",
       "14081  AV2ZqC3JglJLPUi8QkKo   19999.99\n",
       "14079  AV2ZqC3JglJLPUi8QkKo   19999.99\n",
       "14077  AV2ZqC3JglJLPUi8QkKo   19997.99\n",
       "14082  AV2ZqC3JglJLPUi8QkKo   19997.99\n",
       "...                     ...        ...\n",
       "8718   AVphOxQQ1cnluZ0-_-Nn       1.00\n",
       "2547   AVpf-2hGilAPnD_xlfDv       1.00\n",
       "8754   AVqVGaGiU2_QcyX9Ozcm       1.00\n",
       "2384   AVqkI8oeU2_QcyX9O04K       1.00\n",
       "2451   AVqVGaYQQMlgsOJE6eVH       1.00\n",
       "\n",
       "[14592 rows x 2 columns]"
      ]
     },
     "execution_count": 1102,
     "metadata": {},
     "output_type": "execute_result"
    }
   ],
   "source": [
    "data_train_non_trans_merge[['id', 'price_USD']].sort_values(by='price_USD', ascending=False)"
   ]
  },
  {
   "cell_type": "code",
   "execution_count": 1103,
   "metadata": {},
   "outputs": [],
   "source": [
    "data_train_non_trans_merge = data_train_non_trans_merge.drop(458)"
   ]
  },
  {
   "cell_type": "code",
   "execution_count": 1104,
   "metadata": {},
   "outputs": [
    {
     "data": {
      "text/plain": [
       "<AxesSubplot:>"
      ]
     },
     "execution_count": 1104,
     "metadata": {},
     "output_type": "execute_result"
    },
    {
     "data": {
      "image/png": "[encoded data removed]",
      "text/plain": [
       "<Figure size 432x288 with 1 Axes>"
      ]
     },
     "metadata": {
      "needs_background": "light"
     },
     "output_type": "display_data"
    }
   ],
   "source": [
    "data_train_non_trans_merge.boxplot(['weight_norm'])"
   ]
  },
  {
   "cell_type": "code",
   "execution_count": 1105,
   "metadata": {},
   "outputs": [],
   "source": [
    "#Products with weight = 0\n",
    "data_train_non_trans_merge.at[9620:9622,'weight_norm']=np.NaN\n",
    "data_train_non_trans_merge.at[11683:11686,'weight_norm']=np.NaN"
   ]
  },
  {
   "cell_type": "code",
   "execution_count": 1106,
   "metadata": {},
   "outputs": [],
   "source": [
    "data_train_non_trans_merge_final = data_train_non_trans_merge[['id',\n",
    "                                                               'prices_availability',\n",
    "                                                               'prices_condition',\n",
    "                                                               'prices_isSale',\n",
    "                                                               'prices_merchant_x',\n",
    "                                                               'brand_x',\n",
    "                                                               'manufacturer',\n",
    "                                                               'manufacturerNumber',\n",
    "                                                               'primaryCategories',\n",
    "                                                               'weight_norm',\n",
    "                                                               'category_0',\n",
    "                                                               'category_1',\n",
    "                                                               'category_2',\n",
    "                                                               'category_3',\n",
    "                                                               'category_4',\n",
    "                                                               'category_5',\n",
    "                                                               'category_6',\n",
    "                                                               'shipping_flag',\n",
    "                                                               'n_days_since_added',\n",
    "                                                               'n_days_since_updated',\n",
    "                                                               'prices_merchant_y',\n",
    "                                                               'brand_y',\n",
    "                                                               'price_USD']]"
   ]
  },
  {
   "cell_type": "code",
   "execution_count": 1107,
   "metadata": {},
   "outputs": [],
   "source": [
    "duplicated = data_train_non_trans_merge_final.duplicated().to_frame()"
   ]
  },
  {
   "cell_type": "code",
   "execution_count": 1108,
   "metadata": {},
   "outputs": [],
   "source": [
    "data_train_non_trans_merge_final_before_dup = data_train_non_trans_merge_final.copy()"
   ]
  },
  {
   "cell_type": "code",
   "execution_count": 1109,
   "metadata": {},
   "outputs": [],
   "source": [
    "data_train_non_trans_merge_final_dup = pd.merge(data_train_non_trans_merge_final, duplicated, left_index=True, right_index=True)"
   ]
  },
  {
   "cell_type": "code",
   "execution_count": 1110,
   "metadata": {},
   "outputs": [],
   "source": [
    "data_train_non_trans_merge_final_dup.rename(columns={ data_train_non_trans_merge_final_dup.columns[23]: \"Flag_duplicated\"}, inplace = True)"
   ]
  },
  {
   "cell_type": "code",
   "execution_count": 1111,
   "metadata": {},
   "outputs": [],
   "source": [
    "data_train_non_trans_merge_final_dup = data_train_non_trans_merge_final_dup[data_train_non_trans_merge_final_dup['Flag_duplicated']==False]"
   ]
  },
  {
   "cell_type": "code",
   "execution_count": 1112,
   "metadata": {},
   "outputs": [],
   "source": [
    "# Let's explore our data for missing values"
   ]
  },
  {
   "cell_type": "code",
   "execution_count": 1113,
   "metadata": {},
   "outputs": [
    {
     "data": {
      "text/plain": [
       "id                       0.000000\n",
       "prices_availability     13.494981\n",
       "prices_condition         9.614025\n",
       "prices_isSale            0.000000\n",
       "prices_merchant_x        5.153400\n",
       "brand_x                  0.000000\n",
       "manufacturer            47.483388\n",
       "manufacturerNumber       0.000000\n",
       "primaryCategories        0.000000\n",
       "weight_norm              0.367595\n",
       "category_0               0.000000\n",
       "category_1               0.000000\n",
       "category_2               0.000000\n",
       "category_3               0.021207\n",
       "category_4               0.155521\n",
       "category_5               0.805882\n",
       "category_6               1.611763\n",
       "shipping_flag            0.000000\n",
       "n_days_since_added       0.000000\n",
       "n_days_since_updated     0.000000\n",
       "prices_merchant_y        0.000000\n",
       "brand_y                  0.000000\n",
       "price_USD                0.000000\n",
       "Flag_duplicated          0.000000\n",
       "dtype: float64"
      ]
     },
     "execution_count": 1113,
     "metadata": {},
     "output_type": "execute_result"
    }
   ],
   "source": [
    "data_train_non_trans_merge_final_dup.isna().sum()/len(data_train_non_trans_merge_final_dup)*100"
   ]
  },
  {
   "cell_type": "code",
   "execution_count": 1114,
   "metadata": {},
   "outputs": [],
   "source": [
    "# 47% of \"manufacturer\" column is missed. Since we also have \"manufacturerNumber\", we can drop \"manufacturer\""
   ]
  },
  {
   "cell_type": "code",
   "execution_count": 1115,
   "metadata": {},
   "outputs": [],
   "source": [
    "data_train_non_trans_merge_final_dup = data_train_non_trans_merge_final_dup.drop('manufacturer', axis=1)"
   ]
  },
  {
   "cell_type": "code",
   "execution_count": 1116,
   "metadata": {},
   "outputs": [],
   "source": [
    "# Let's fill prices_availability, prices_condition and prices_merchant_x by blanks"
   ]
  },
  {
   "cell_type": "code",
   "execution_count": 1117,
   "metadata": {},
   "outputs": [],
   "source": [
    "data_train_non_trans_merge_final_dup['prices_availability'] = data_train_non_trans_merge_final_dup['prices_availability'].fillna(\"\")\n",
    "data_train_non_trans_merge_final_dup['prices_condition'] = data_train_non_trans_merge_final_dup['prices_condition'].fillna(\"\")\n",
    "data_train_non_trans_merge_final_dup['prices_merchant_x'] = data_train_non_trans_merge_final_dup['prices_merchant_x'].fillna(\"\")"
   ]
  },
  {
   "cell_type": "code",
   "execution_count": 1118,
   "metadata": {},
   "outputs": [],
   "source": [
    "# Do the same for category_3, category_4, category_5 and category_6"
   ]
  },
  {
   "cell_type": "code",
   "execution_count": 1119,
   "metadata": {},
   "outputs": [],
   "source": [
    "data_train_non_trans_merge_final_dup['category_3'] = data_train_non_trans_merge_final_dup['category_3'].fillna(\"\")\n",
    "data_train_non_trans_merge_final_dup['category_4'] = data_train_non_trans_merge_final_dup['category_4'].fillna(\"\")\n",
    "data_train_non_trans_merge_final_dup['category_5'] = data_train_non_trans_merge_final_dup['category_5'].fillna(\"\")\n",
    "data_train_non_trans_merge_final_dup['category_6'] = data_train_non_trans_merge_final_dup['category_6'].fillna(\"\")"
   ]
  },
  {
   "cell_type": "code",
   "execution_count": 1120,
   "metadata": {},
   "outputs": [],
   "source": [
    "# In order to impute weight variable, we can use the median value of its product category"
   ]
  },
  {
   "cell_type": "code",
   "execution_count": 1121,
   "metadata": {},
   "outputs": [],
   "source": [
    "data_train_non_trans_merge_final_dup['weight_norm'] = data_train_non_trans_merge_final_dup.weight_norm.fillna(data_train_non_trans_merge_final_dup.groupby('category_0').weight_norm.transform('median'))"
   ]
  },
  {
   "cell_type": "code",
   "execution_count": 1122,
   "metadata": {},
   "outputs": [
    {
     "data": {
      "text/plain": [
       "id                      0.0\n",
       "prices_availability     0.0\n",
       "prices_condition        0.0\n",
       "prices_isSale           0.0\n",
       "prices_merchant_x       0.0\n",
       "brand_x                 0.0\n",
       "manufacturerNumber      0.0\n",
       "primaryCategories       0.0\n",
       "weight_norm             0.0\n",
       "category_0              0.0\n",
       "category_1              0.0\n",
       "category_2              0.0\n",
       "category_3              0.0\n",
       "category_4              0.0\n",
       "category_5              0.0\n",
       "category_6              0.0\n",
       "shipping_flag           0.0\n",
       "n_days_since_added      0.0\n",
       "n_days_since_updated    0.0\n",
       "prices_merchant_y       0.0\n",
       "brand_y                 0.0\n",
       "price_USD               0.0\n",
       "Flag_duplicated         0.0\n",
       "dtype: float64"
      ]
     },
     "execution_count": 1122,
     "metadata": {},
     "output_type": "execute_result"
    }
   ],
   "source": [
    "data_train_non_trans_merge_final_dup.isna().sum()/len(data_train_non_trans_merge_final_dup)*100"
   ]
  },
  {
   "cell_type": "code",
   "execution_count": 1123,
   "metadata": {},
   "outputs": [],
   "source": [
    "data_train_non_trans_merge_final_dup = data_train_non_trans_merge_final_dup.drop('Flag_duplicated',axis=1)"
   ]
  },
  {
   "cell_type": "markdown",
   "metadata": {},
   "source": [
    "### Data Visualization"
   ]
  },
  {
   "cell_type": "code",
   "execution_count": 1124,
   "metadata": {},
   "outputs": [],
   "source": [
    "#As we can see, the distribution is mostly got skewed to right side this is because of varying density in that price range. \n",
    "#This is our dependent variable. we have to predict this values using other attributes given."
   ]
  },
  {
   "cell_type": "code",
   "execution_count": 1125,
   "metadata": {},
   "outputs": [
    {
     "data": {
      "text/plain": [
       "<seaborn.axisgrid.FacetGrid at 0x1f85e40fcc8>"
      ]
     },
     "execution_count": 1125,
     "metadata": {},
     "output_type": "execute_result"
    },
    {
     "data": {
      "image/png": "[encoded data removed]",
      "text/plain": [
       "<Figure size 1152x576 with 1 Axes>"
      ]
     },
     "metadata": {
      "needs_background": "light"
     },
     "output_type": "display_data"
    }
   ],
   "source": [
    "sns.displot(data_train_non_trans_merge_final_dup, x=\"price_USD\", bins=30, height=8, aspect=2)"
   ]
  },
  {
   "cell_type": "code",
   "execution_count": 1126,
   "metadata": {},
   "outputs": [],
   "source": [
    "shipping_flag_explore = data_train_non_trans_merge_final_dup[(data_train_non_trans_merge_final_dup[\"shipping_flag\"] == 'Same day if ordered before 4pm') | (data_train_non_trans_merge_final_dup[\"shipping_flag\"] == 'Paid')]"
   ]
  },
  {
   "cell_type": "code",
   "execution_count": 1127,
   "metadata": {},
   "outputs": [],
   "source": [
    "#Let us see how price got skewed with shipping attribute"
   ]
  },
  {
   "cell_type": "code",
   "execution_count": 1128,
   "metadata": {},
   "outputs": [
    {
     "data": {
      "text/plain": [
       "<seaborn.axisgrid.FacetGrid at 0x1f85e33d508>"
      ]
     },
     "execution_count": 1128,
     "metadata": {},
     "output_type": "execute_result"
    },
    {
     "data": {
      "image/png": "[encoded data removed]",
      "text/plain": [
       "<Figure size 1349.62x576 with 1 Axes>"
      ]
     },
     "metadata": {
      "needs_background": "light"
     },
     "output_type": "display_data"
    }
   ],
   "source": [
    "sns.displot(shipping_flag_explore, x=\"price_USD\", hue = 'shipping_flag', multiple='dodge', bins=30, height=8, aspect=2)"
   ]
  },
  {
   "cell_type": "code",
   "execution_count": 1129,
   "metadata": {},
   "outputs": [],
   "source": [
    "category_explore = data_train_non_trans_merge_final_dup[(data_train_non_trans_merge_final_dup[\"category_4\"] == 'Accessories') | (data_train_non_trans_merge_final_dup[\"category_4\"] == 'All Cameras')]"
   ]
  },
  {
   "cell_type": "code",
   "execution_count": 1130,
   "metadata": {},
   "outputs": [],
   "source": [
    "#As we can see the price changes depending on shipping\n",
    "#Obvisoly products, which shipping is done in the same day has a very high cost"
   ]
  },
  {
   "cell_type": "code",
   "execution_count": 1131,
   "metadata": {},
   "outputs": [
    {
     "data": {
      "text/plain": [
       "<seaborn.axisgrid.FacetGrid at 0x1f858067048>"
      ]
     },
     "execution_count": 1131,
     "metadata": {},
     "output_type": "execute_result"
    },
    {
     "data": {
      "image/png": "[encoded data removed]",
      "text/plain": [
       "<Figure size 1248x576 with 1 Axes>"
      ]
     },
     "metadata": {
      "needs_background": "light"
     },
     "output_type": "display_data"
    }
   ],
   "source": [
    "sns.displot(category_explore, x=\"price_USD\", hue ='category_4', multiple='dodge', bins=30, height=8, aspect=2)"
   ]
  },
  {
   "cell_type": "code",
   "execution_count": 1132,
   "metadata": {},
   "outputs": [
    {
     "data": {
      "text/html": [
       "<div>\n",
       "<style scoped>\n",
       "    .dataframe tbody tr th:only-of-type {\n",
       "        vertical-align: middle;\n",
       "    }\n",
       "\n",
       "    .dataframe tbody tr th {\n",
       "        vertical-align: top;\n",
       "    }\n",
       "\n",
       "    .dataframe thead th {\n",
       "        text-align: right;\n",
       "    }\n",
       "</style>\n",
       "<table border=\"1\" class=\"dataframe\">\n",
       "  <thead>\n",
       "    <tr style=\"text-align: right;\">\n",
       "      <th></th>\n",
       "      <th>price_USD</th>\n",
       "    </tr>\n",
       "    <tr>\n",
       "      <th>shipping_flag</th>\n",
       "      <th></th>\n",
       "    </tr>\n",
       "  </thead>\n",
       "  <tbody>\n",
       "    <tr>\n",
       "      <th></th>\n",
       "      <td>177.745</td>\n",
       "    </tr>\n",
       "    <tr>\n",
       "      <th>1-3 days</th>\n",
       "      <td>123.990</td>\n",
       "    </tr>\n",
       "    <tr>\n",
       "      <th>10-12 days</th>\n",
       "      <td>61.990</td>\n",
       "    </tr>\n",
       "    <tr>\n",
       "      <th>2-4 days</th>\n",
       "      <td>268.490</td>\n",
       "    </tr>\n",
       "    <tr>\n",
       "      <th>3-5 days</th>\n",
       "      <td>27.490</td>\n",
       "    </tr>\n",
       "    <tr>\n",
       "      <th>4-6 days</th>\n",
       "      <td>269.990</td>\n",
       "    </tr>\n",
       "    <tr>\n",
       "      <th>6-8 days</th>\n",
       "      <td>102.990</td>\n",
       "    </tr>\n",
       "    <tr>\n",
       "      <th>7-9 days</th>\n",
       "      <td>78.990</td>\n",
       "    </tr>\n",
       "    <tr>\n",
       "      <th>8-10 days</th>\n",
       "      <td>102.990</td>\n",
       "    </tr>\n",
       "    <tr>\n",
       "      <th>Call</th>\n",
       "      <td>367.490</td>\n",
       "    </tr>\n",
       "    <tr>\n",
       "      <th>Expedited</th>\n",
       "      <td>107.990</td>\n",
       "    </tr>\n",
       "    <tr>\n",
       "      <th>Free</th>\n",
       "      <td>250.160</td>\n",
       "    </tr>\n",
       "    <tr>\n",
       "      <th>Freight</th>\n",
       "      <td>648.890</td>\n",
       "    </tr>\n",
       "    <tr>\n",
       "      <th>Paid</th>\n",
       "      <td>127.000</td>\n",
       "    </tr>\n",
       "    <tr>\n",
       "      <th>Same day if ordered before 4pm</th>\n",
       "      <td>797.990</td>\n",
       "    </tr>\n",
       "    <tr>\n",
       "      <th>Shipping Charges Apply</th>\n",
       "      <td>719.495</td>\n",
       "    </tr>\n",
       "    <tr>\n",
       "      <th>Standard</th>\n",
       "      <td>229.350</td>\n",
       "    </tr>\n",
       "    <tr>\n",
       "      <th>Value</th>\n",
       "      <td>142.030</td>\n",
       "    </tr>\n",
       "  </tbody>\n",
       "</table>\n",
       "</div>"
      ],
      "text/plain": [
       "                                price_USD\n",
       "shipping_flag                            \n",
       "                                  177.745\n",
       "1-3 days                          123.990\n",
       "10-12 days                         61.990\n",
       "2-4 days                          268.490\n",
       "3-5 days                           27.490\n",
       "4-6 days                          269.990\n",
       "6-8 days                          102.990\n",
       "7-9 days                           78.990\n",
       "8-10 days                         102.990\n",
       "Call                              367.490\n",
       "Expedited                         107.990\n",
       "Free                              250.160\n",
       "Freight                           648.890\n",
       "Paid                              127.000\n",
       "Same day if ordered before 4pm    797.990\n",
       "Shipping Charges Apply            719.495\n",
       "Standard                          229.350\n",
       "Value                             142.030"
      ]
     },
     "execution_count": 1132,
     "metadata": {},
     "output_type": "execute_result"
    }
   ],
   "source": [
    "data_train_non_trans_merge_final_dup.pivot_table(index=['shipping_flag'], values=['price_USD'], aggfunc=np.median)"
   ]
  },
  {
   "cell_type": "code",
   "execution_count": 1133,
   "metadata": {},
   "outputs": [],
   "source": [
    "#We can also see it in our pivot table"
   ]
  },
  {
   "cell_type": "code",
   "execution_count": 1134,
   "metadata": {},
   "outputs": [],
   "source": [
    "#Let us explore the variable weight"
   ]
  },
  {
   "cell_type": "code",
   "execution_count": 1135,
   "metadata": {},
   "outputs": [],
   "source": [
    "#As we can see, there is some correlation between weight and price (products with more weight has higher price)"
   ]
  },
  {
   "cell_type": "code",
   "execution_count": 1136,
   "metadata": {},
   "outputs": [
    {
     "data": {
      "text/plain": [
       "<matplotlib.collections.PathCollection at 0x1f857e48788>"
      ]
     },
     "execution_count": 1136,
     "metadata": {},
     "output_type": "execute_result"
    },
    {
     "data": {
      "image/png": "[encoded data removed]",
      "text/plain": [
       "<Figure size 720x720 with 1 Axes>"
      ]
     },
     "metadata": {
      "needs_background": "light"
     },
     "output_type": "display_data"
    }
   ],
   "source": [
    "plt.figure(figsize=(10,10))\n",
    "plt.scatter(data_train_non_trans_merge_final_dup['price_USD'], data_train_non_trans_merge_final_dup['weight_norm'], alpha=0.5)"
   ]
  },
  {
   "cell_type": "code",
   "execution_count": 1137,
   "metadata": {},
   "outputs": [
    {
     "data": {
      "text/plain": [
       "0.4731423268212986"
      ]
     },
     "execution_count": 1137,
     "metadata": {},
     "output_type": "execute_result"
    }
   ],
   "source": [
    "data_train_non_trans_merge_final_dup['price_USD'].corr(data_train_non_trans_merge_final_dup['weight_norm'], method = \"spearman\")"
   ]
  },
  {
   "cell_type": "code",
   "execution_count": 1138,
   "metadata": {},
   "outputs": [],
   "source": [
    "brands_explore = data_train_non_trans_merge_final_dup.pivot_table(index=['brand_x'], values=['price_USD'], aggfunc=np.mean).sort_values(by = \"price_USD\", ascending=False)"
   ]
  },
  {
   "cell_type": "code",
   "execution_count": 1139,
   "metadata": {},
   "outputs": [],
   "source": [
    "#As we can see, the average price is higher for some brands and lower for others"
   ]
  },
  {
   "cell_type": "code",
   "execution_count": 1140,
   "metadata": {},
   "outputs": [
    {
     "data": {
      "text/html": [
       "<div>\n",
       "<style scoped>\n",
       "    .dataframe tbody tr th:only-of-type {\n",
       "        vertical-align: middle;\n",
       "    }\n",
       "\n",
       "    .dataframe tbody tr th {\n",
       "        vertical-align: top;\n",
       "    }\n",
       "\n",
       "    .dataframe thead th {\n",
       "        text-align: right;\n",
       "    }\n",
       "</style>\n",
       "<table border=\"1\" class=\"dataframe\">\n",
       "  <thead>\n",
       "    <tr style=\"text-align: right;\">\n",
       "      <th></th>\n",
       "      <th>price_USD</th>\n",
       "    </tr>\n",
       "    <tr>\n",
       "      <th>brand_x</th>\n",
       "      <th></th>\n",
       "    </tr>\n",
       "  </thead>\n",
       "  <tbody>\n",
       "    <tr>\n",
       "      <th>SunBriteTV</th>\n",
       "      <td>3326.616667</td>\n",
       "    </tr>\n",
       "    <tr>\n",
       "      <th>LG</th>\n",
       "      <td>2106.043745</td>\n",
       "    </tr>\n",
       "    <tr>\n",
       "      <th>Intel</th>\n",
       "      <td>1915.922727</td>\n",
       "    </tr>\n",
       "    <tr>\n",
       "      <th>Marantz</th>\n",
       "      <td>1854.026875</td>\n",
       "    </tr>\n",
       "    <tr>\n",
       "      <th>Blue Microphones</th>\n",
       "      <td>1749.990000</td>\n",
       "    </tr>\n",
       "    <tr>\n",
       "      <th>MSI</th>\n",
       "      <td>1693.441818</td>\n",
       "    </tr>\n",
       "    <tr>\n",
       "      <th>VIZIO, INC</th>\n",
       "      <td>1692.696250</td>\n",
       "    </tr>\n",
       "    <tr>\n",
       "      <th>Nikon</th>\n",
       "      <td>1548.601153</td>\n",
       "    </tr>\n",
       "    <tr>\n",
       "      <th>Crane</th>\n",
       "      <td>1403.382174</td>\n",
       "    </tr>\n",
       "    <tr>\n",
       "      <th>Alienware</th>\n",
       "      <td>1271.220972</td>\n",
       "    </tr>\n",
       "    <tr>\n",
       "      <th>Optoma</th>\n",
       "      <td>1144.482174</td>\n",
       "    </tr>\n",
       "    <tr>\n",
       "      <th>SVS</th>\n",
       "      <td>942.840952</td>\n",
       "    </tr>\n",
       "    <tr>\n",
       "      <th>Gemini</th>\n",
       "      <td>933.603125</td>\n",
       "    </tr>\n",
       "    <tr>\n",
       "      <th>Sony</th>\n",
       "      <td>881.883593</td>\n",
       "    </tr>\n",
       "    <tr>\n",
       "      <th>Samsung</th>\n",
       "      <td>867.118054</td>\n",
       "    </tr>\n",
       "    <tr>\n",
       "      <th>Apple</th>\n",
       "      <td>796.049477</td>\n",
       "    </tr>\n",
       "    <tr>\n",
       "      <th>Asus</th>\n",
       "      <td>789.271318</td>\n",
       "    </tr>\n",
       "    <tr>\n",
       "      <th>Hisense</th>\n",
       "      <td>785.134595</td>\n",
       "    </tr>\n",
       "    <tr>\n",
       "      <th>CybertronPC</th>\n",
       "      <td>770.866250</td>\n",
       "    </tr>\n",
       "    <tr>\n",
       "      <th>Sigma</th>\n",
       "      <td>718.317692</td>\n",
       "    </tr>\n",
       "    <tr>\n",
       "      <th>Amd</th>\n",
       "      <td>712.877143</td>\n",
       "    </tr>\n",
       "    <tr>\n",
       "      <th>Dell</th>\n",
       "      <td>695.885854</td>\n",
       "    </tr>\n",
       "    <tr>\n",
       "      <th>Canon</th>\n",
       "      <td>678.010038</td>\n",
       "    </tr>\n",
       "    <tr>\n",
       "      <th>Panasonic</th>\n",
       "      <td>654.729000</td>\n",
       "    </tr>\n",
       "    <tr>\n",
       "      <th>VIZIO</th>\n",
       "      <td>620.882000</td>\n",
       "    </tr>\n",
       "    <tr>\n",
       "      <th>Sonos</th>\n",
       "      <td>606.270267</td>\n",
       "    </tr>\n",
       "    <tr>\n",
       "      <th>: Polk Audio</th>\n",
       "      <td>594.078571</td>\n",
       "    </tr>\n",
       "    <tr>\n",
       "      <th>BenQ</th>\n",
       "      <td>587.413004</td>\n",
       "    </tr>\n",
       "    <tr>\n",
       "      <th>Audioquest</th>\n",
       "      <td>574.980000</td>\n",
       "    </tr>\n",
       "    <tr>\n",
       "      <th>HP</th>\n",
       "      <td>536.898082</td>\n",
       "    </tr>\n",
       "  </tbody>\n",
       "</table>\n",
       "</div>"
      ],
      "text/plain": [
       "                    price_USD\n",
       "brand_x                      \n",
       "SunBriteTV        3326.616667\n",
       "LG                2106.043745\n",
       "Intel             1915.922727\n",
       "Marantz           1854.026875\n",
       "Blue Microphones  1749.990000\n",
       "MSI               1693.441818\n",
       "VIZIO, INC        1692.696250\n",
       "Nikon             1548.601153\n",
       "Crane             1403.382174\n",
       "Alienware         1271.220972\n",
       "Optoma            1144.482174\n",
       "SVS                942.840952\n",
       "Gemini             933.603125\n",
       "Sony               881.883593\n",
       "Samsung            867.118054\n",
       "Apple              796.049477\n",
       "Asus               789.271318\n",
       "Hisense            785.134595\n",
       "CybertronPC        770.866250\n",
       "Sigma              718.317692\n",
       "Amd                712.877143\n",
       "Dell               695.885854\n",
       "Canon              678.010038\n",
       "Panasonic          654.729000\n",
       "VIZIO              620.882000\n",
       "Sonos              606.270267\n",
       ": Polk Audio       594.078571\n",
       "BenQ               587.413004\n",
       "Audioquest         574.980000\n",
       "HP                 536.898082"
      ]
     },
     "execution_count": 1140,
     "metadata": {},
     "output_type": "execute_result"
    }
   ],
   "source": [
    "brands_explore.head(30)"
   ]
  },
  {
   "cell_type": "code",
   "execution_count": 1141,
   "metadata": {},
   "outputs": [],
   "source": [
    "#Also the average price can change according to the product condition"
   ]
  },
  {
   "cell_type": "code",
   "execution_count": 1142,
   "metadata": {},
   "outputs": [],
   "source": [
    "brand = data_train_non_trans_merge_final_dup[(data_train_non_trans_merge_final_dup[\"brand_x\"] == 'Intel') | (data_train_non_trans_merge_final_dup[\"brand_x\"] == 'HP')]"
   ]
  },
  {
   "cell_type": "code",
   "execution_count": 1143,
   "metadata": {},
   "outputs": [
    {
     "data": {
      "text/plain": [
       "<seaborn.axisgrid.FacetGrid at 0x1f85e22aa08>"
      ]
     },
     "execution_count": 1143,
     "metadata": {},
     "output_type": "execute_result"
    },
    {
     "data": {
      "image/png": "[encoded data removed]",
      "text/plain": [
       "<Figure size 1210.12x576 with 1 Axes>"
      ]
     },
     "metadata": {
      "needs_background": "light"
     },
     "output_type": "display_data"
    }
   ],
   "source": [
    "sns.displot(brand, x=\"price_USD\", hue = 'brand_x', multiple='dodge', bins=30, height=8, aspect=2)"
   ]
  },
  {
   "cell_type": "code",
   "execution_count": 1144,
   "metadata": {},
   "outputs": [
    {
     "data": {
      "text/html": [
       "<div>\n",
       "<style scoped>\n",
       "    .dataframe tbody tr th:only-of-type {\n",
       "        vertical-align: middle;\n",
       "    }\n",
       "\n",
       "    .dataframe tbody tr th {\n",
       "        vertical-align: top;\n",
       "    }\n",
       "\n",
       "    .dataframe thead th {\n",
       "        text-align: right;\n",
       "    }\n",
       "</style>\n",
       "<table border=\"1\" class=\"dataframe\">\n",
       "  <thead>\n",
       "    <tr style=\"text-align: right;\">\n",
       "      <th></th>\n",
       "      <th>price_USD</th>\n",
       "    </tr>\n",
       "    <tr>\n",
       "      <th>prices_condition</th>\n",
       "      <th></th>\n",
       "    </tr>\n",
       "  </thead>\n",
       "  <tbody>\n",
       "    <tr>\n",
       "      <th></th>\n",
       "      <td>468.990125</td>\n",
       "    </tr>\n",
       "    <tr>\n",
       "      <th>For parts or not working</th>\n",
       "      <td>320.194000</td>\n",
       "    </tr>\n",
       "    <tr>\n",
       "      <th>Manufacturer refurbished</th>\n",
       "      <td>313.354538</td>\n",
       "    </tr>\n",
       "    <tr>\n",
       "      <th>New</th>\n",
       "      <td>507.080031</td>\n",
       "    </tr>\n",
       "    <tr>\n",
       "      <th>New other (see details)</th>\n",
       "      <td>391.792772</td>\n",
       "    </tr>\n",
       "    <tr>\n",
       "      <th>Refurbished</th>\n",
       "      <td>407.551875</td>\n",
       "    </tr>\n",
       "    <tr>\n",
       "      <th>Seller refurbished</th>\n",
       "      <td>318.365890</td>\n",
       "    </tr>\n",
       "    <tr>\n",
       "      <th>Used</th>\n",
       "      <td>412.073653</td>\n",
       "    </tr>\n",
       "    <tr>\n",
       "      <th>new</th>\n",
       "      <td>434.516519</td>\n",
       "    </tr>\n",
       "    <tr>\n",
       "      <th>pre-owned</th>\n",
       "      <td>431.418571</td>\n",
       "    </tr>\n",
       "    <tr>\n",
       "      <th>refurbished</th>\n",
       "      <td>647.164545</td>\n",
       "    </tr>\n",
       "  </tbody>\n",
       "</table>\n",
       "</div>"
      ],
      "text/plain": [
       "                           price_USD\n",
       "prices_condition                    \n",
       "                          468.990125\n",
       "For parts or not working  320.194000\n",
       "Manufacturer refurbished  313.354538\n",
       "New                       507.080031\n",
       "New other (see details)   391.792772\n",
       "Refurbished               407.551875\n",
       "Seller refurbished        318.365890\n",
       "Used                      412.073653\n",
       "new                       434.516519\n",
       "pre-owned                 431.418571\n",
       "refurbished               647.164545"
      ]
     },
     "execution_count": 1144,
     "metadata": {},
     "output_type": "execute_result"
    }
   ],
   "source": [
    "data_train_non_trans_merge_final_dup.pivot_table(index=['prices_condition'], values=['price_USD'], aggfunc=np.mean)"
   ]
  },
  {
   "cell_type": "code",
   "execution_count": 1145,
   "metadata": {},
   "outputs": [],
   "source": [
    "#As we can see, the average price also changes according to product category"
   ]
  },
  {
   "cell_type": "code",
   "execution_count": 1146,
   "metadata": {},
   "outputs": [
    {
     "data": {
      "text/html": [
       "<div>\n",
       "<style scoped>\n",
       "    .dataframe tbody tr th:only-of-type {\n",
       "        vertical-align: middle;\n",
       "    }\n",
       "\n",
       "    .dataframe tbody tr th {\n",
       "        vertical-align: top;\n",
       "    }\n",
       "\n",
       "    .dataframe thead th {\n",
       "        text-align: right;\n",
       "    }\n",
       "</style>\n",
       "<table border=\"1\" class=\"dataframe\">\n",
       "  <thead>\n",
       "    <tr style=\"text-align: right;\">\n",
       "      <th></th>\n",
       "      <th>price_USD</th>\n",
       "    </tr>\n",
       "    <tr>\n",
       "      <th>category_2</th>\n",
       "      <th></th>\n",
       "    </tr>\n",
       "  </thead>\n",
       "  <tbody>\n",
       "    <tr>\n",
       "      <th>Lenses &amp; Filters</th>\n",
       "      <td>11247.850833</td>\n",
       "    </tr>\n",
       "    <tr>\n",
       "      <th>4K Ultra HD TVs</th>\n",
       "      <td>9954.987500</td>\n",
       "    </tr>\n",
       "    <tr>\n",
       "      <th>Projectors</th>\n",
       "      <td>4998.160000</td>\n",
       "    </tr>\n",
       "    <tr>\n",
       "      <th>Samsung KS9800</th>\n",
       "      <td>3250.895909</td>\n",
       "    </tr>\n",
       "    <tr>\n",
       "      <th>4K Ultra HDTVs</th>\n",
       "      <td>2954.851429</td>\n",
       "    </tr>\n",
       "    <tr>\n",
       "      <th>...</th>\n",
       "      <td>...</td>\n",
       "    </tr>\n",
       "    <tr>\n",
       "      <th>Camera Bags</th>\n",
       "      <td>24.656667</td>\n",
       "    </tr>\n",
       "    <tr>\n",
       "      <th>Wired Microphone Accessories</th>\n",
       "      <td>23.897143</td>\n",
       "    </tr>\n",
       "    <tr>\n",
       "      <th>Other Camcorder Accessories</th>\n",
       "      <td>18.866522</td>\n",
       "    </tr>\n",
       "    <tr>\n",
       "      <th>Bluetooth Speakers</th>\n",
       "      <td>17.490000</td>\n",
       "    </tr>\n",
       "    <tr>\n",
       "      <th>Extension Cords</th>\n",
       "      <td>12.490000</td>\n",
       "    </tr>\n",
       "  </tbody>\n",
       "</table>\n",
       "<p>377 rows × 1 columns</p>\n",
       "</div>"
      ],
      "text/plain": [
       "                                 price_USD\n",
       "category_2                                \n",
       "Lenses & Filters              11247.850833\n",
       "4K Ultra HD TVs                9954.987500\n",
       "Projectors                     4998.160000\n",
       "Samsung KS9800                 3250.895909\n",
       "4K Ultra HDTVs                 2954.851429\n",
       "...                                    ...\n",
       "Camera Bags                      24.656667\n",
       "Wired Microphone Accessories     23.897143\n",
       "Other Camcorder Accessories      18.866522\n",
       "Bluetooth Speakers               17.490000\n",
       "Extension Cords                  12.490000\n",
       "\n",
       "[377 rows x 1 columns]"
      ]
     },
     "execution_count": 1146,
     "metadata": {},
     "output_type": "execute_result"
    }
   ],
   "source": [
    "data_train_non_trans_merge_final_dup.pivot_table(index=['category_2'], values=['price_USD'], aggfunc=np.mean).sort_values(by='price_USD', ascending=False)"
   ]
  },
  {
   "cell_type": "code",
   "execution_count": 1147,
   "metadata": {},
   "outputs": [],
   "source": [
    "#As we can see, the average price also changes according to manufacturer"
   ]
  },
  {
   "cell_type": "code",
   "execution_count": 1148,
   "metadata": {},
   "outputs": [
    {
     "data": {
      "text/html": [
       "<div>\n",
       "<style scoped>\n",
       "    .dataframe tbody tr th:only-of-type {\n",
       "        vertical-align: middle;\n",
       "    }\n",
       "\n",
       "    .dataframe tbody tr th {\n",
       "        vertical-align: top;\n",
       "    }\n",
       "\n",
       "    .dataframe thead th {\n",
       "        text-align: right;\n",
       "    }\n",
       "</style>\n",
       "<table border=\"1\" class=\"dataframe\">\n",
       "  <thead>\n",
       "    <tr style=\"text-align: right;\">\n",
       "      <th></th>\n",
       "      <th>price_USD</th>\n",
       "    </tr>\n",
       "    <tr>\n",
       "      <th>manufacturerNumber</th>\n",
       "      <th></th>\n",
       "    </tr>\n",
       "  </thead>\n",
       "  <tbody>\n",
       "    <tr>\n",
       "      <th>QN88Q9FAMFXZA</th>\n",
       "      <td>19623.735000</td>\n",
       "    </tr>\n",
       "    <tr>\n",
       "      <th>2217</th>\n",
       "      <td>11247.850833</td>\n",
       "    </tr>\n",
       "    <tr>\n",
       "      <th>SB-5518HD-WH</th>\n",
       "      <td>5641.594000</td>\n",
       "    </tr>\n",
       "    <tr>\n",
       "      <th>OLED65E6P</th>\n",
       "      <td>5128.670645</td>\n",
       "    </tr>\n",
       "    <tr>\n",
       "      <th>VPLVW285ES</th>\n",
       "      <td>4998.160000</td>\n",
       "    </tr>\n",
       "    <tr>\n",
       "      <th>...</th>\n",
       "      <td>...</td>\n",
       "    </tr>\n",
       "    <tr>\n",
       "      <th>LP36651</th>\n",
       "      <td>15.826667</td>\n",
       "    </tr>\n",
       "    <tr>\n",
       "      <th>1500518000</th>\n",
       "      <td>14.965556</td>\n",
       "    </tr>\n",
       "    <tr>\n",
       "      <th>SP-3001</th>\n",
       "      <td>14.923333</td>\n",
       "    </tr>\n",
       "    <tr>\n",
       "      <th>TRAVEL-ADAPT</th>\n",
       "      <td>12.910000</td>\n",
       "    </tr>\n",
       "    <tr>\n",
       "      <th>ETLTUSBBLK</th>\n",
       "      <td>12.490000</td>\n",
       "    </tr>\n",
       "  </tbody>\n",
       "</table>\n",
       "<p>1245 rows × 1 columns</p>\n",
       "</div>"
      ],
      "text/plain": [
       "                       price_USD\n",
       "manufacturerNumber              \n",
       "QN88Q9FAMFXZA       19623.735000\n",
       "2217                11247.850833\n",
       "SB-5518HD-WH         5641.594000\n",
       "OLED65E6P            5128.670645\n",
       "VPLVW285ES           4998.160000\n",
       "...                          ...\n",
       "LP36651                15.826667\n",
       "1500518000             14.965556\n",
       "SP-3001                14.923333\n",
       "TRAVEL-ADAPT           12.910000\n",
       "ETLTUSBBLK             12.490000\n",
       "\n",
       "[1245 rows x 1 columns]"
      ]
     },
     "execution_count": 1148,
     "metadata": {},
     "output_type": "execute_result"
    }
   ],
   "source": [
    "data_train_non_trans_merge_final_dup.pivot_table(index=['manufacturerNumber'], values=['price_USD'], aggfunc=np.mean).sort_values(by='price_USD', ascending=False)"
   ]
  },
  {
   "cell_type": "code",
   "execution_count": 1149,
   "metadata": {},
   "outputs": [],
   "source": [
    "#As we can see, the average price changes depending on if product is sold under discount"
   ]
  },
  {
   "cell_type": "code",
   "execution_count": 1150,
   "metadata": {},
   "outputs": [
    {
     "data": {
      "text/html": [
       "<div>\n",
       "<style scoped>\n",
       "    .dataframe tbody tr th:only-of-type {\n",
       "        vertical-align: middle;\n",
       "    }\n",
       "\n",
       "    .dataframe tbody tr th {\n",
       "        vertical-align: top;\n",
       "    }\n",
       "\n",
       "    .dataframe thead th {\n",
       "        text-align: right;\n",
       "    }\n",
       "</style>\n",
       "<table border=\"1\" class=\"dataframe\">\n",
       "  <thead>\n",
       "    <tr style=\"text-align: right;\">\n",
       "      <th></th>\n",
       "      <th>price_USD</th>\n",
       "    </tr>\n",
       "    <tr>\n",
       "      <th>prices_isSale</th>\n",
       "      <th></th>\n",
       "    </tr>\n",
       "  </thead>\n",
       "  <tbody>\n",
       "    <tr>\n",
       "      <th>True</th>\n",
       "      <td>260.00</td>\n",
       "    </tr>\n",
       "    <tr>\n",
       "      <th>False</th>\n",
       "      <td>179.57</td>\n",
       "    </tr>\n",
       "  </tbody>\n",
       "</table>\n",
       "</div>"
      ],
      "text/plain": [
       "               price_USD\n",
       "prices_isSale           \n",
       "True              260.00\n",
       "False             179.57"
      ]
     },
     "execution_count": 1150,
     "metadata": {},
     "output_type": "execute_result"
    }
   ],
   "source": [
    "data_train_non_trans_merge_final_dup.pivot_table(index=['prices_isSale'], values=['price_USD'], aggfunc=np.median).sort_values(by='price_USD', ascending=False)"
   ]
  },
  {
   "cell_type": "code",
   "execution_count": 1151,
   "metadata": {},
   "outputs": [],
   "source": [
    "#As we can see, the average price changes depending on reseller"
   ]
  },
  {
   "cell_type": "code",
   "execution_count": 1152,
   "metadata": {},
   "outputs": [],
   "source": [
    "merch = data_train_non_trans_merge_final_dup[(data_train_non_trans_merge_final_dup[\"prices_merchant_x\"] == 'samyscamera02') | (data_train_non_trans_merge_final_dup[\"prices_merchant_x\"] == \"Green's Camera World\")]"
   ]
  },
  {
   "cell_type": "code",
   "execution_count": 1153,
   "metadata": {},
   "outputs": [
    {
     "data": {
      "text/plain": [
       "<seaborn.axisgrid.FacetGrid at 0x1f85df92488>"
      ]
     },
     "execution_count": 1153,
     "metadata": {},
     "output_type": "execute_result"
    },
    {
     "data": {
      "image/png": "[encoded data removed]",
      "text/plain": [
       "<Figure size 1300.25x576 with 1 Axes>"
      ]
     },
     "metadata": {
      "needs_background": "light"
     },
     "output_type": "display_data"
    }
   ],
   "source": [
    "sns.displot(merch, x=\"price_USD\", hue = 'prices_merchant_x', multiple='dodge', bins=30, height=8, aspect=2)"
   ]
  },
  {
   "cell_type": "code",
   "execution_count": 1154,
   "metadata": {},
   "outputs": [],
   "source": [
    "#Let's save data set for modelling purposes"
   ]
  },
  {
   "cell_type": "code",
   "execution_count": 1155,
   "metadata": {},
   "outputs": [],
   "source": [
    "data_train_non_trans_merge_final_dup.to_csv('...data_train_non_trans_merge_final_dup.csv')"
   ]
  }
 ],
 "metadata": {
  "kernelspec": {
   "display_name": "XAI",
   "language": "python",
   "name": "xai"
  },
  "language_info": {
   "codemirror_mode": {
    "name": "ipython",
    "version": 3
   },
   "file_extension": ".py",
   "mimetype": "text/x-python",
   "name": "python",
   "nbconvert_exporter": "python",
   "pygments_lexer": "ipython3",
   "version": "3.7.9"
  }
 },
 "nbformat": 4,
 "nbformat_minor": 2
}
